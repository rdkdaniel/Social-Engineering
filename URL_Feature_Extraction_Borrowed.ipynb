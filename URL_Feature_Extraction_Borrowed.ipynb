{
  "nbformat": 4,
  "nbformat_minor": 0,
  "metadata": {
    "colab": {
      "name": "URL Feature Extraction_Borrowed",
      "provenance": [],
      "collapsed_sections": [],
      "authorship_tag": "ABX9TyP+9mhmZHb4I9UxAxwLywaW",
      "include_colab_link": true
    },
    "kernelspec": {
      "name": "python3",
      "display_name": "Python 3"
    },
    "language_info": {
      "name": "python"
    }
  },
  "cells": [
    {
      "cell_type": "markdown",
      "metadata": {
        "id": "view-in-github",
        "colab_type": "text"
      },
      "source": [
        "<a href=\"https://colab.research.google.com/github/rdkdaniel/Social-Engineering/blob/main/URL_Feature_Extraction_Borrowed.ipynb\" target=\"_parent\"><img src=\"https://colab.research.google.com/assets/colab-badge.svg\" alt=\"Open In Colab\"/></a>"
      ]
    },
    {
      "cell_type": "markdown",
      "source": [
        "**Phishing URLS**"
      ],
      "metadata": {
        "id": "76s7O2HzIqru"
      }
    },
    {
      "cell_type": "markdown",
      "source": [
        "https://colab.research.google.com/github/shreyagopal/Phishing-Website-Detection-by-Machine-Learning-Techniques/blob/master/URL%20Feature%20Extraction.ipynb#scrollTo=PH13wfswmyDv"
      ],
      "metadata": {
        "id": "WR_e2lKkIxqx"
      }
    },
    {
      "cell_type": "code",
      "execution_count": 1,
      "metadata": {
        "id": "P7JPVM1oIk4K"
      },
      "outputs": [],
      "source": [
        "#importing required packages for this module\n",
        "import pandas as pd"
      ]
    },
    {
      "cell_type": "code",
      "source": [
        "#Downloading the phishing URLs file\n",
        "!wget http://data.phishtank.com/data/online-valid.csv"
      ],
      "metadata": {
        "colab": {
          "base_uri": "https://localhost:8080/"
        },
        "id": "tUjhkqENIwoc",
        "outputId": "a4596135-76d7-4a0b-bdc7-d89d084b0522"
      },
      "execution_count": 2,
      "outputs": [
        {
          "output_type": "stream",
          "name": "stdout",
          "text": [
            "--2022-08-09 06:15:00--  http://data.phishtank.com/data/online-valid.csv\n",
            "Resolving data.phishtank.com (data.phishtank.com)... 104.16.101.75, 104.17.177.85, 2606:4700::6810:654b, ...\n",
            "Connecting to data.phishtank.com (data.phishtank.com)|104.16.101.75|:80... connected.\n",
            "HTTP request sent, awaiting response... 301 Moved Permanently\n",
            "Location: https://data.phishtank.com/data/online-valid.csv [following]\n",
            "--2022-08-09 06:15:00--  https://data.phishtank.com/data/online-valid.csv\n",
            "Connecting to data.phishtank.com (data.phishtank.com)|104.16.101.75|:443... connected.\n",
            "HTTP request sent, awaiting response... 302 Found\n",
            "Location: https://cdn.phishtank.com/datadumps/verified_online.csv?Expires=1660025710&Signature=ACyp5NEQ1CTLwP-HE0I4QJsX3sQN~ysRSJHJhZ-f~cGXfaM3t2WVc5cSfSELroXoRfxhPXofZ5FMN3qfvardaWWjRhapPrb3VW5HBT0FG9zGf62Q81Q0pIu0z1JoRX7mRw6F3NAhDa~1-b72tzu4QGqX-vDrczwuPVS-MvDbCA8zBFA4gNPTqfwT2jfc5tRLW1xnt9MN4kJYWMVz4XBgziiHUx0Uk6e205ekNzjIPI4I69Y3U9hxPiZ1OFzJpdHUSIvUCIltfW~KIGKEJpVkyqIWAasocUZpfqAAgnwt5D26yn5l9E2awFwhRpFDL9ipUdmt767lVU7~vF8AoBLttA__&Key-Pair-Id=APKAILB45UG3RB4CSOJA [following]\n",
            "--2022-08-09 06:15:00--  https://cdn.phishtank.com/datadumps/verified_online.csv?Expires=1660025710&Signature=ACyp5NEQ1CTLwP-HE0I4QJsX3sQN~ysRSJHJhZ-f~cGXfaM3t2WVc5cSfSELroXoRfxhPXofZ5FMN3qfvardaWWjRhapPrb3VW5HBT0FG9zGf62Q81Q0pIu0z1JoRX7mRw6F3NAhDa~1-b72tzu4QGqX-vDrczwuPVS-MvDbCA8zBFA4gNPTqfwT2jfc5tRLW1xnt9MN4kJYWMVz4XBgziiHUx0Uk6e205ekNzjIPI4I69Y3U9hxPiZ1OFzJpdHUSIvUCIltfW~KIGKEJpVkyqIWAasocUZpfqAAgnwt5D26yn5l9E2awFwhRpFDL9ipUdmt767lVU7~vF8AoBLttA__&Key-Pair-Id=APKAILB45UG3RB4CSOJA\n",
            "Resolving cdn.phishtank.com (cdn.phishtank.com)... 104.17.177.85, 104.16.101.75, 2606:4700::6811:b155, ...\n",
            "Connecting to cdn.phishtank.com (cdn.phishtank.com)|104.17.177.85|:443... connected.\n",
            "HTTP request sent, awaiting response... 200 OK\n",
            "Length: unspecified [text/csv]\n",
            "Saving to: ‘online-valid.csv’\n",
            "\n",
            "online-valid.csv        [ <=>                ]   3.65M  --.-KB/s    in 0.09s   \n",
            "\n",
            "2022-08-09 06:15:00 (41.0 MB/s) - ‘online-valid.csv’ saved [3825429]\n",
            "\n"
          ]
        }
      ]
    },
    {
      "cell_type": "code",
      "source": [
        "#The above command downlaods the file of phishing URLs, online-valid.csv and stores in the /content/ folder. "
      ],
      "metadata": {
        "id": "7pO58VtsI3rt"
      },
      "execution_count": 3,
      "outputs": []
    },
    {
      "cell_type": "code",
      "source": [
        "#loading the phishing URLs data to dataframe\n",
        "data0 = pd.read_csv(\"online-valid.csv\")\n",
        "data0.head()"
      ],
      "metadata": {
        "colab": {
          "base_uri": "https://localhost:8080/",
          "height": 354
        },
        "id": "-dlHBhfrI878",
        "outputId": "fcd55d75-32e5-44df-9314-bc1df5100511"
      },
      "execution_count": 4,
      "outputs": [
        {
          "output_type": "execute_result",
          "data": {
            "text/plain": [
              "   phish_id                                                url  \\\n",
              "0   7645082                  https://3dw.in/bnc.inhb/login.php   \n",
              "1   7645081                                 http://upceshop.cn   \n",
              "2   7645080  https://polska-vinted-hjso21.catastrophe.top/a...   \n",
              "3   7645067                        https://magiceden-pass.net/   \n",
              "4   7645066                             https://dbs-sg.online/   \n",
              "\n",
              "                                    phish_detail_url  \\\n",
              "0  http://www.phishtank.com/phish_detail.php?phis...   \n",
              "1  http://www.phishtank.com/phish_detail.php?phis...   \n",
              "2  http://www.phishtank.com/phish_detail.php?phis...   \n",
              "3  http://www.phishtank.com/phish_detail.php?phis...   \n",
              "4  http://www.phishtank.com/phish_detail.php?phis...   \n",
              "\n",
              "             submission_time verified          verification_time online  \\\n",
              "0  2022-08-09T04:57:22+00:00      yes  2022-08-09T05:11:04+00:00    yes   \n",
              "1  2022-08-09T04:53:49+00:00      yes  2022-08-09T05:11:04+00:00    yes   \n",
              "2  2022-08-09T04:49:38+00:00      yes  2022-08-09T04:52:52+00:00    yes   \n",
              "3  2022-08-09T04:06:31+00:00      yes  2022-08-09T04:12:31+00:00    yes   \n",
              "4  2022-08-09T04:02:51+00:00      yes  2022-08-09T04:22:51+00:00    yes   \n",
              "\n",
              "                          target  \n",
              "0                          Other  \n",
              "1                          Other  \n",
              "2                          Other  \n",
              "3                          Other  \n",
              "4  Development Bank of Singapore  "
            ],
            "text/html": [
              "\n",
              "  <div id=\"df-97107e90-2e7f-4af9-9e21-77ea1d606cd8\">\n",
              "    <div class=\"colab-df-container\">\n",
              "      <div>\n",
              "<style scoped>\n",
              "    .dataframe tbody tr th:only-of-type {\n",
              "        vertical-align: middle;\n",
              "    }\n",
              "\n",
              "    .dataframe tbody tr th {\n",
              "        vertical-align: top;\n",
              "    }\n",
              "\n",
              "    .dataframe thead th {\n",
              "        text-align: right;\n",
              "    }\n",
              "</style>\n",
              "<table border=\"1\" class=\"dataframe\">\n",
              "  <thead>\n",
              "    <tr style=\"text-align: right;\">\n",
              "      <th></th>\n",
              "      <th>phish_id</th>\n",
              "      <th>url</th>\n",
              "      <th>phish_detail_url</th>\n",
              "      <th>submission_time</th>\n",
              "      <th>verified</th>\n",
              "      <th>verification_time</th>\n",
              "      <th>online</th>\n",
              "      <th>target</th>\n",
              "    </tr>\n",
              "  </thead>\n",
              "  <tbody>\n",
              "    <tr>\n",
              "      <th>0</th>\n",
              "      <td>7645082</td>\n",
              "      <td>https://3dw.in/bnc.inhb/login.php</td>\n",
              "      <td>http://www.phishtank.com/phish_detail.php?phis...</td>\n",
              "      <td>2022-08-09T04:57:22+00:00</td>\n",
              "      <td>yes</td>\n",
              "      <td>2022-08-09T05:11:04+00:00</td>\n",
              "      <td>yes</td>\n",
              "      <td>Other</td>\n",
              "    </tr>\n",
              "    <tr>\n",
              "      <th>1</th>\n",
              "      <td>7645081</td>\n",
              "      <td>http://upceshop.cn</td>\n",
              "      <td>http://www.phishtank.com/phish_detail.php?phis...</td>\n",
              "      <td>2022-08-09T04:53:49+00:00</td>\n",
              "      <td>yes</td>\n",
              "      <td>2022-08-09T05:11:04+00:00</td>\n",
              "      <td>yes</td>\n",
              "      <td>Other</td>\n",
              "    </tr>\n",
              "    <tr>\n",
              "      <th>2</th>\n",
              "      <td>7645080</td>\n",
              "      <td>https://polska-vinted-hjso21.catastrophe.top/a...</td>\n",
              "      <td>http://www.phishtank.com/phish_detail.php?phis...</td>\n",
              "      <td>2022-08-09T04:49:38+00:00</td>\n",
              "      <td>yes</td>\n",
              "      <td>2022-08-09T04:52:52+00:00</td>\n",
              "      <td>yes</td>\n",
              "      <td>Other</td>\n",
              "    </tr>\n",
              "    <tr>\n",
              "      <th>3</th>\n",
              "      <td>7645067</td>\n",
              "      <td>https://magiceden-pass.net/</td>\n",
              "      <td>http://www.phishtank.com/phish_detail.php?phis...</td>\n",
              "      <td>2022-08-09T04:06:31+00:00</td>\n",
              "      <td>yes</td>\n",
              "      <td>2022-08-09T04:12:31+00:00</td>\n",
              "      <td>yes</td>\n",
              "      <td>Other</td>\n",
              "    </tr>\n",
              "    <tr>\n",
              "      <th>4</th>\n",
              "      <td>7645066</td>\n",
              "      <td>https://dbs-sg.online/</td>\n",
              "      <td>http://www.phishtank.com/phish_detail.php?phis...</td>\n",
              "      <td>2022-08-09T04:02:51+00:00</td>\n",
              "      <td>yes</td>\n",
              "      <td>2022-08-09T04:22:51+00:00</td>\n",
              "      <td>yes</td>\n",
              "      <td>Development Bank of Singapore</td>\n",
              "    </tr>\n",
              "  </tbody>\n",
              "</table>\n",
              "</div>\n",
              "      <button class=\"colab-df-convert\" onclick=\"convertToInteractive('df-97107e90-2e7f-4af9-9e21-77ea1d606cd8')\"\n",
              "              title=\"Convert this dataframe to an interactive table.\"\n",
              "              style=\"display:none;\">\n",
              "        \n",
              "  <svg xmlns=\"http://www.w3.org/2000/svg\" height=\"24px\"viewBox=\"0 0 24 24\"\n",
              "       width=\"24px\">\n",
              "    <path d=\"M0 0h24v24H0V0z\" fill=\"none\"/>\n",
              "    <path d=\"M18.56 5.44l.94 2.06.94-2.06 2.06-.94-2.06-.94-.94-2.06-.94 2.06-2.06.94zm-11 1L8.5 8.5l.94-2.06 2.06-.94-2.06-.94L8.5 2.5l-.94 2.06-2.06.94zm10 10l.94 2.06.94-2.06 2.06-.94-2.06-.94-.94-2.06-.94 2.06-2.06.94z\"/><path d=\"M17.41 7.96l-1.37-1.37c-.4-.4-.92-.59-1.43-.59-.52 0-1.04.2-1.43.59L10.3 9.45l-7.72 7.72c-.78.78-.78 2.05 0 2.83L4 21.41c.39.39.9.59 1.41.59.51 0 1.02-.2 1.41-.59l7.78-7.78 2.81-2.81c.8-.78.8-2.07 0-2.86zM5.41 20L4 18.59l7.72-7.72 1.47 1.35L5.41 20z\"/>\n",
              "  </svg>\n",
              "      </button>\n",
              "      \n",
              "  <style>\n",
              "    .colab-df-container {\n",
              "      display:flex;\n",
              "      flex-wrap:wrap;\n",
              "      gap: 12px;\n",
              "    }\n",
              "\n",
              "    .colab-df-convert {\n",
              "      background-color: #E8F0FE;\n",
              "      border: none;\n",
              "      border-radius: 50%;\n",
              "      cursor: pointer;\n",
              "      display: none;\n",
              "      fill: #1967D2;\n",
              "      height: 32px;\n",
              "      padding: 0 0 0 0;\n",
              "      width: 32px;\n",
              "    }\n",
              "\n",
              "    .colab-df-convert:hover {\n",
              "      background-color: #E2EBFA;\n",
              "      box-shadow: 0px 1px 2px rgba(60, 64, 67, 0.3), 0px 1px 3px 1px rgba(60, 64, 67, 0.15);\n",
              "      fill: #174EA6;\n",
              "    }\n",
              "\n",
              "    [theme=dark] .colab-df-convert {\n",
              "      background-color: #3B4455;\n",
              "      fill: #D2E3FC;\n",
              "    }\n",
              "\n",
              "    [theme=dark] .colab-df-convert:hover {\n",
              "      background-color: #434B5C;\n",
              "      box-shadow: 0px 1px 3px 1px rgba(0, 0, 0, 0.15);\n",
              "      filter: drop-shadow(0px 1px 2px rgba(0, 0, 0, 0.3));\n",
              "      fill: #FFFFFF;\n",
              "    }\n",
              "  </style>\n",
              "\n",
              "      <script>\n",
              "        const buttonEl =\n",
              "          document.querySelector('#df-97107e90-2e7f-4af9-9e21-77ea1d606cd8 button.colab-df-convert');\n",
              "        buttonEl.style.display =\n",
              "          google.colab.kernel.accessAllowed ? 'block' : 'none';\n",
              "\n",
              "        async function convertToInteractive(key) {\n",
              "          const element = document.querySelector('#df-97107e90-2e7f-4af9-9e21-77ea1d606cd8');\n",
              "          const dataTable =\n",
              "            await google.colab.kernel.invokeFunction('convertToInteractive',\n",
              "                                                     [key], {});\n",
              "          if (!dataTable) return;\n",
              "\n",
              "          const docLinkHtml = 'Like what you see? Visit the ' +\n",
              "            '<a target=\"_blank\" href=https://colab.research.google.com/notebooks/data_table.ipynb>data table notebook</a>'\n",
              "            + ' to learn more about interactive tables.';\n",
              "          element.innerHTML = '';\n",
              "          dataTable['output_type'] = 'display_data';\n",
              "          await google.colab.output.renderOutput(dataTable, element);\n",
              "          const docLink = document.createElement('div');\n",
              "          docLink.innerHTML = docLinkHtml;\n",
              "          element.appendChild(docLink);\n",
              "        }\n",
              "      </script>\n",
              "    </div>\n",
              "  </div>\n",
              "  "
            ]
          },
          "metadata": {},
          "execution_count": 4
        }
      ]
    },
    {
      "cell_type": "code",
      "source": [
        "data0.describe"
      ],
      "metadata": {
        "colab": {
          "base_uri": "https://localhost:8080/"
        },
        "id": "j74tz2pNJAtF",
        "outputId": "d1ca0a2f-59b4-453d-950c-34c11c15a26d"
      },
      "execution_count": 5,
      "outputs": [
        {
          "output_type": "execute_result",
          "data": {
            "text/plain": [
              "<bound method NDFrame.describe of        phish_id                                                url  \\\n",
              "0       7645082                  https://3dw.in/bnc.inhb/login.php   \n",
              "1       7645081                                 http://upceshop.cn   \n",
              "2       7645080  https://polska-vinted-hjso21.catastrophe.top/a...   \n",
              "3       7645067                        https://magiceden-pass.net/   \n",
              "4       7645066                             https://dbs-sg.online/   \n",
              "...         ...                                                ...   \n",
              "19437   1850379      https://sites.google.com/site/libretyreserve/   \n",
              "19438   1809425      http://sites.google.com/site/habbotuttogratis   \n",
              "19439   1460953       http://www.habbocreditosparati.blogspot.com/   \n",
              "19440   1123978  http://creditiperhabbogratissicuro100.blogspot...   \n",
              "19441    549159  http://aijcs.blogspot.com/2005/03/colourful-li...   \n",
              "\n",
              "                                        phish_detail_url  \\\n",
              "0      http://www.phishtank.com/phish_detail.php?phis...   \n",
              "1      http://www.phishtank.com/phish_detail.php?phis...   \n",
              "2      http://www.phishtank.com/phish_detail.php?phis...   \n",
              "3      http://www.phishtank.com/phish_detail.php?phis...   \n",
              "4      http://www.phishtank.com/phish_detail.php?phis...   \n",
              "...                                                  ...   \n",
              "19437  http://www.phishtank.com/phish_detail.php?phis...   \n",
              "19438  http://www.phishtank.com/phish_detail.php?phis...   \n",
              "19439  http://www.phishtank.com/phish_detail.php?phis...   \n",
              "19440  http://www.phishtank.com/phish_detail.php?phis...   \n",
              "19441  http://www.phishtank.com/phish_detail.php?phis...   \n",
              "\n",
              "                 submission_time verified          verification_time online  \\\n",
              "0      2022-08-09T04:57:22+00:00      yes  2022-08-09T05:11:04+00:00    yes   \n",
              "1      2022-08-09T04:53:49+00:00      yes  2022-08-09T05:11:04+00:00    yes   \n",
              "2      2022-08-09T04:49:38+00:00      yes  2022-08-09T04:52:52+00:00    yes   \n",
              "3      2022-08-09T04:06:31+00:00      yes  2022-08-09T04:12:31+00:00    yes   \n",
              "4      2022-08-09T04:02:51+00:00      yes  2022-08-09T04:22:51+00:00    yes   \n",
              "...                          ...      ...                        ...    ...   \n",
              "19437  2013-05-18T23:52:56+00:00      yes  2013-05-19T13:45:13+00:00    yes   \n",
              "19438  2013-04-30T07:16:53+00:00      yes  2014-01-24T19:34:08+00:00    yes   \n",
              "19439  2012-06-14T15:19:26+00:00      yes  2012-06-14T15:29:11+00:00    yes   \n",
              "19440  2011-02-18T10:50:32+00:00      yes  2011-02-19T00:05:43+00:00    yes   \n",
              "19441  2008-11-07T15:04:00+00:00      yes  2011-09-03T19:15:33+00:00    yes   \n",
              "\n",
              "                              target  \n",
              "0                              Other  \n",
              "1                              Other  \n",
              "2                              Other  \n",
              "3                              Other  \n",
              "4      Development Bank of Singapore  \n",
              "...                              ...  \n",
              "19437                          Other  \n",
              "19438                          Other  \n",
              "19439             Sulake Corporation  \n",
              "19440             Sulake Corporation  \n",
              "19441                          Other  \n",
              "\n",
              "[19442 rows x 8 columns]>"
            ]
          },
          "metadata": {},
          "execution_count": 5
        }
      ]
    },
    {
      "cell_type": "markdown",
      "source": [
        "The data has thousands of phishing URLs. But thers is a problem of hourly data update. The author thus considered a margin of 10,000 phishin URLs and 5000 legitimate URLs to avoid data imbalance. \n",
        "Thereby, picking up 5000 samples from the above dataframe randomly.\n"
      ],
      "metadata": {
        "id": "ytglfQonJL-x"
      }
    },
    {
      "cell_type": "code",
      "source": [
        "#Collecting 5,000 Phishing URLs randomly\n",
        "phishurl = data0.sample(n = 5000, random_state = 12).copy()\n",
        "phishurl = phishurl.reset_index(drop=True)\n",
        "phishurl.head()"
      ],
      "metadata": {
        "colab": {
          "base_uri": "https://localhost:8080/",
          "height": 374
        },
        "id": "4fTP2aQNJFAT",
        "outputId": "95c385c0-b93a-4dde-954f-4d032f2ef348"
      },
      "execution_count": 6,
      "outputs": [
        {
          "output_type": "execute_result",
          "data": {
            "text/plain": [
              "   phish_id                                                url  \\\n",
              "0   7641804  https://vinted-pl-gj32d.magnesietvloer.top/pro...   \n",
              "1   7630381                    https://s6note.firebaseapp.com/   \n",
              "2   7638847  http://www.vivsveiscesn.visacscevsvei.thowqo.t...   \n",
              "3   7640110          https://login-page-107621.weeblysite.com/   \n",
              "4   7636299  https://7b631qxp.r.us-west-2.awstrack.me/L0/ht...   \n",
              "\n",
              "                                    phish_detail_url  \\\n",
              "0  http://www.phishtank.com/phish_detail.php?phis...   \n",
              "1  http://www.phishtank.com/phish_detail.php?phis...   \n",
              "2  http://www.phishtank.com/phish_detail.php?phis...   \n",
              "3  http://www.phishtank.com/phish_detail.php?phis...   \n",
              "4  http://www.phishtank.com/phish_detail.php?phis...   \n",
              "\n",
              "             submission_time verified          verification_time online  \\\n",
              "0  2022-08-05T11:06:12+00:00      yes  2022-08-05T11:13:00+00:00    yes   \n",
              "1  2022-07-28T22:50:16+00:00      yes  2022-07-28T23:06:09+00:00    yes   \n",
              "2  2022-08-02T10:01:24+00:00      yes  2022-08-02T11:22:10+00:00    yes   \n",
              "3  2022-08-03T14:18:09+00:00      yes  2022-08-03T14:23:26+00:00    yes   \n",
              "4  2022-08-01T21:05:59+00:00      yes  2022-08-02T02:32:32+00:00    yes   \n",
              "\n",
              "                     target  \n",
              "0           Bank Millennium  \n",
              "1                     Other  \n",
              "2                     NICOS  \n",
              "3                     Other  \n",
              "4  Internal Revenue Service  "
            ],
            "text/html": [
              "\n",
              "  <div id=\"df-4cf69229-c11f-4181-9496-c6e1bf86a298\">\n",
              "    <div class=\"colab-df-container\">\n",
              "      <div>\n",
              "<style scoped>\n",
              "    .dataframe tbody tr th:only-of-type {\n",
              "        vertical-align: middle;\n",
              "    }\n",
              "\n",
              "    .dataframe tbody tr th {\n",
              "        vertical-align: top;\n",
              "    }\n",
              "\n",
              "    .dataframe thead th {\n",
              "        text-align: right;\n",
              "    }\n",
              "</style>\n",
              "<table border=\"1\" class=\"dataframe\">\n",
              "  <thead>\n",
              "    <tr style=\"text-align: right;\">\n",
              "      <th></th>\n",
              "      <th>phish_id</th>\n",
              "      <th>url</th>\n",
              "      <th>phish_detail_url</th>\n",
              "      <th>submission_time</th>\n",
              "      <th>verified</th>\n",
              "      <th>verification_time</th>\n",
              "      <th>online</th>\n",
              "      <th>target</th>\n",
              "    </tr>\n",
              "  </thead>\n",
              "  <tbody>\n",
              "    <tr>\n",
              "      <th>0</th>\n",
              "      <td>7641804</td>\n",
              "      <td>https://vinted-pl-gj32d.magnesietvloer.top/pro...</td>\n",
              "      <td>http://www.phishtank.com/phish_detail.php?phis...</td>\n",
              "      <td>2022-08-05T11:06:12+00:00</td>\n",
              "      <td>yes</td>\n",
              "      <td>2022-08-05T11:13:00+00:00</td>\n",
              "      <td>yes</td>\n",
              "      <td>Bank Millennium</td>\n",
              "    </tr>\n",
              "    <tr>\n",
              "      <th>1</th>\n",
              "      <td>7630381</td>\n",
              "      <td>https://s6note.firebaseapp.com/</td>\n",
              "      <td>http://www.phishtank.com/phish_detail.php?phis...</td>\n",
              "      <td>2022-07-28T22:50:16+00:00</td>\n",
              "      <td>yes</td>\n",
              "      <td>2022-07-28T23:06:09+00:00</td>\n",
              "      <td>yes</td>\n",
              "      <td>Other</td>\n",
              "    </tr>\n",
              "    <tr>\n",
              "      <th>2</th>\n",
              "      <td>7638847</td>\n",
              "      <td>http://www.vivsveiscesn.visacscevsvei.thowqo.t...</td>\n",
              "      <td>http://www.phishtank.com/phish_detail.php?phis...</td>\n",
              "      <td>2022-08-02T10:01:24+00:00</td>\n",
              "      <td>yes</td>\n",
              "      <td>2022-08-02T11:22:10+00:00</td>\n",
              "      <td>yes</td>\n",
              "      <td>NICOS</td>\n",
              "    </tr>\n",
              "    <tr>\n",
              "      <th>3</th>\n",
              "      <td>7640110</td>\n",
              "      <td>https://login-page-107621.weeblysite.com/</td>\n",
              "      <td>http://www.phishtank.com/phish_detail.php?phis...</td>\n",
              "      <td>2022-08-03T14:18:09+00:00</td>\n",
              "      <td>yes</td>\n",
              "      <td>2022-08-03T14:23:26+00:00</td>\n",
              "      <td>yes</td>\n",
              "      <td>Other</td>\n",
              "    </tr>\n",
              "    <tr>\n",
              "      <th>4</th>\n",
              "      <td>7636299</td>\n",
              "      <td>https://7b631qxp.r.us-west-2.awstrack.me/L0/ht...</td>\n",
              "      <td>http://www.phishtank.com/phish_detail.php?phis...</td>\n",
              "      <td>2022-08-01T21:05:59+00:00</td>\n",
              "      <td>yes</td>\n",
              "      <td>2022-08-02T02:32:32+00:00</td>\n",
              "      <td>yes</td>\n",
              "      <td>Internal Revenue Service</td>\n",
              "    </tr>\n",
              "  </tbody>\n",
              "</table>\n",
              "</div>\n",
              "      <button class=\"colab-df-convert\" onclick=\"convertToInteractive('df-4cf69229-c11f-4181-9496-c6e1bf86a298')\"\n",
              "              title=\"Convert this dataframe to an interactive table.\"\n",
              "              style=\"display:none;\">\n",
              "        \n",
              "  <svg xmlns=\"http://www.w3.org/2000/svg\" height=\"24px\"viewBox=\"0 0 24 24\"\n",
              "       width=\"24px\">\n",
              "    <path d=\"M0 0h24v24H0V0z\" fill=\"none\"/>\n",
              "    <path d=\"M18.56 5.44l.94 2.06.94-2.06 2.06-.94-2.06-.94-.94-2.06-.94 2.06-2.06.94zm-11 1L8.5 8.5l.94-2.06 2.06-.94-2.06-.94L8.5 2.5l-.94 2.06-2.06.94zm10 10l.94 2.06.94-2.06 2.06-.94-2.06-.94-.94-2.06-.94 2.06-2.06.94z\"/><path d=\"M17.41 7.96l-1.37-1.37c-.4-.4-.92-.59-1.43-.59-.52 0-1.04.2-1.43.59L10.3 9.45l-7.72 7.72c-.78.78-.78 2.05 0 2.83L4 21.41c.39.39.9.59 1.41.59.51 0 1.02-.2 1.41-.59l7.78-7.78 2.81-2.81c.8-.78.8-2.07 0-2.86zM5.41 20L4 18.59l7.72-7.72 1.47 1.35L5.41 20z\"/>\n",
              "  </svg>\n",
              "      </button>\n",
              "      \n",
              "  <style>\n",
              "    .colab-df-container {\n",
              "      display:flex;\n",
              "      flex-wrap:wrap;\n",
              "      gap: 12px;\n",
              "    }\n",
              "\n",
              "    .colab-df-convert {\n",
              "      background-color: #E8F0FE;\n",
              "      border: none;\n",
              "      border-radius: 50%;\n",
              "      cursor: pointer;\n",
              "      display: none;\n",
              "      fill: #1967D2;\n",
              "      height: 32px;\n",
              "      padding: 0 0 0 0;\n",
              "      width: 32px;\n",
              "    }\n",
              "\n",
              "    .colab-df-convert:hover {\n",
              "      background-color: #E2EBFA;\n",
              "      box-shadow: 0px 1px 2px rgba(60, 64, 67, 0.3), 0px 1px 3px 1px rgba(60, 64, 67, 0.15);\n",
              "      fill: #174EA6;\n",
              "    }\n",
              "\n",
              "    [theme=dark] .colab-df-convert {\n",
              "      background-color: #3B4455;\n",
              "      fill: #D2E3FC;\n",
              "    }\n",
              "\n",
              "    [theme=dark] .colab-df-convert:hover {\n",
              "      background-color: #434B5C;\n",
              "      box-shadow: 0px 1px 3px 1px rgba(0, 0, 0, 0.15);\n",
              "      filter: drop-shadow(0px 1px 2px rgba(0, 0, 0, 0.3));\n",
              "      fill: #FFFFFF;\n",
              "    }\n",
              "  </style>\n",
              "\n",
              "      <script>\n",
              "        const buttonEl =\n",
              "          document.querySelector('#df-4cf69229-c11f-4181-9496-c6e1bf86a298 button.colab-df-convert');\n",
              "        buttonEl.style.display =\n",
              "          google.colab.kernel.accessAllowed ? 'block' : 'none';\n",
              "\n",
              "        async function convertToInteractive(key) {\n",
              "          const element = document.querySelector('#df-4cf69229-c11f-4181-9496-c6e1bf86a298');\n",
              "          const dataTable =\n",
              "            await google.colab.kernel.invokeFunction('convertToInteractive',\n",
              "                                                     [key], {});\n",
              "          if (!dataTable) return;\n",
              "\n",
              "          const docLinkHtml = 'Like what you see? Visit the ' +\n",
              "            '<a target=\"_blank\" href=https://colab.research.google.com/notebooks/data_table.ipynb>data table notebook</a>'\n",
              "            + ' to learn more about interactive tables.';\n",
              "          element.innerHTML = '';\n",
              "          dataTable['output_type'] = 'display_data';\n",
              "          await google.colab.output.renderOutput(dataTable, element);\n",
              "          const docLink = document.createElement('div');\n",
              "          docLink.innerHTML = docLinkHtml;\n",
              "          element.appendChild(docLink);\n",
              "        }\n",
              "      </script>\n",
              "    </div>\n",
              "  </div>\n",
              "  "
            ]
          },
          "metadata": {},
          "execution_count": 6
        }
      ]
    },
    {
      "cell_type": "code",
      "source": [
        "phishurl.describe()"
      ],
      "metadata": {
        "colab": {
          "base_uri": "https://localhost:8080/",
          "height": 300
        },
        "id": "q7aDhUJuJp--",
        "outputId": "6595b3c4-f540-4044-d635-f87c74195562"
      },
      "execution_count": 7,
      "outputs": [
        {
          "output_type": "execute_result",
          "data": {
            "text/plain": [
              "           phish_id\n",
              "count  5.000000e+03\n",
              "mean   7.553182e+06\n",
              "std    2.770036e+05\n",
              "min    1.123978e+06\n",
              "25%    7.565936e+06\n",
              "50%    7.613882e+06\n",
              "75%    7.634716e+06\n",
              "max    7.645082e+06"
            ],
            "text/html": [
              "\n",
              "  <div id=\"df-d39ab859-4117-4481-9983-c0a766a2f844\">\n",
              "    <div class=\"colab-df-container\">\n",
              "      <div>\n",
              "<style scoped>\n",
              "    .dataframe tbody tr th:only-of-type {\n",
              "        vertical-align: middle;\n",
              "    }\n",
              "\n",
              "    .dataframe tbody tr th {\n",
              "        vertical-align: top;\n",
              "    }\n",
              "\n",
              "    .dataframe thead th {\n",
              "        text-align: right;\n",
              "    }\n",
              "</style>\n",
              "<table border=\"1\" class=\"dataframe\">\n",
              "  <thead>\n",
              "    <tr style=\"text-align: right;\">\n",
              "      <th></th>\n",
              "      <th>phish_id</th>\n",
              "    </tr>\n",
              "  </thead>\n",
              "  <tbody>\n",
              "    <tr>\n",
              "      <th>count</th>\n",
              "      <td>5.000000e+03</td>\n",
              "    </tr>\n",
              "    <tr>\n",
              "      <th>mean</th>\n",
              "      <td>7.553182e+06</td>\n",
              "    </tr>\n",
              "    <tr>\n",
              "      <th>std</th>\n",
              "      <td>2.770036e+05</td>\n",
              "    </tr>\n",
              "    <tr>\n",
              "      <th>min</th>\n",
              "      <td>1.123978e+06</td>\n",
              "    </tr>\n",
              "    <tr>\n",
              "      <th>25%</th>\n",
              "      <td>7.565936e+06</td>\n",
              "    </tr>\n",
              "    <tr>\n",
              "      <th>50%</th>\n",
              "      <td>7.613882e+06</td>\n",
              "    </tr>\n",
              "    <tr>\n",
              "      <th>75%</th>\n",
              "      <td>7.634716e+06</td>\n",
              "    </tr>\n",
              "    <tr>\n",
              "      <th>max</th>\n",
              "      <td>7.645082e+06</td>\n",
              "    </tr>\n",
              "  </tbody>\n",
              "</table>\n",
              "</div>\n",
              "      <button class=\"colab-df-convert\" onclick=\"convertToInteractive('df-d39ab859-4117-4481-9983-c0a766a2f844')\"\n",
              "              title=\"Convert this dataframe to an interactive table.\"\n",
              "              style=\"display:none;\">\n",
              "        \n",
              "  <svg xmlns=\"http://www.w3.org/2000/svg\" height=\"24px\"viewBox=\"0 0 24 24\"\n",
              "       width=\"24px\">\n",
              "    <path d=\"M0 0h24v24H0V0z\" fill=\"none\"/>\n",
              "    <path d=\"M18.56 5.44l.94 2.06.94-2.06 2.06-.94-2.06-.94-.94-2.06-.94 2.06-2.06.94zm-11 1L8.5 8.5l.94-2.06 2.06-.94-2.06-.94L8.5 2.5l-.94 2.06-2.06.94zm10 10l.94 2.06.94-2.06 2.06-.94-2.06-.94-.94-2.06-.94 2.06-2.06.94z\"/><path d=\"M17.41 7.96l-1.37-1.37c-.4-.4-.92-.59-1.43-.59-.52 0-1.04.2-1.43.59L10.3 9.45l-7.72 7.72c-.78.78-.78 2.05 0 2.83L4 21.41c.39.39.9.59 1.41.59.51 0 1.02-.2 1.41-.59l7.78-7.78 2.81-2.81c.8-.78.8-2.07 0-2.86zM5.41 20L4 18.59l7.72-7.72 1.47 1.35L5.41 20z\"/>\n",
              "  </svg>\n",
              "      </button>\n",
              "      \n",
              "  <style>\n",
              "    .colab-df-container {\n",
              "      display:flex;\n",
              "      flex-wrap:wrap;\n",
              "      gap: 12px;\n",
              "    }\n",
              "\n",
              "    .colab-df-convert {\n",
              "      background-color: #E8F0FE;\n",
              "      border: none;\n",
              "      border-radius: 50%;\n",
              "      cursor: pointer;\n",
              "      display: none;\n",
              "      fill: #1967D2;\n",
              "      height: 32px;\n",
              "      padding: 0 0 0 0;\n",
              "      width: 32px;\n",
              "    }\n",
              "\n",
              "    .colab-df-convert:hover {\n",
              "      background-color: #E2EBFA;\n",
              "      box-shadow: 0px 1px 2px rgba(60, 64, 67, 0.3), 0px 1px 3px 1px rgba(60, 64, 67, 0.15);\n",
              "      fill: #174EA6;\n",
              "    }\n",
              "\n",
              "    [theme=dark] .colab-df-convert {\n",
              "      background-color: #3B4455;\n",
              "      fill: #D2E3FC;\n",
              "    }\n",
              "\n",
              "    [theme=dark] .colab-df-convert:hover {\n",
              "      background-color: #434B5C;\n",
              "      box-shadow: 0px 1px 3px 1px rgba(0, 0, 0, 0.15);\n",
              "      filter: drop-shadow(0px 1px 2px rgba(0, 0, 0, 0.3));\n",
              "      fill: #FFFFFF;\n",
              "    }\n",
              "  </style>\n",
              "\n",
              "      <script>\n",
              "        const buttonEl =\n",
              "          document.querySelector('#df-d39ab859-4117-4481-9983-c0a766a2f844 button.colab-df-convert');\n",
              "        buttonEl.style.display =\n",
              "          google.colab.kernel.accessAllowed ? 'block' : 'none';\n",
              "\n",
              "        async function convertToInteractive(key) {\n",
              "          const element = document.querySelector('#df-d39ab859-4117-4481-9983-c0a766a2f844');\n",
              "          const dataTable =\n",
              "            await google.colab.kernel.invokeFunction('convertToInteractive',\n",
              "                                                     [key], {});\n",
              "          if (!dataTable) return;\n",
              "\n",
              "          const docLinkHtml = 'Like what you see? Visit the ' +\n",
              "            '<a target=\"_blank\" href=https://colab.research.google.com/notebooks/data_table.ipynb>data table notebook</a>'\n",
              "            + ' to learn more about interactive tables.';\n",
              "          element.innerHTML = '';\n",
              "          dataTable['output_type'] = 'display_data';\n",
              "          await google.colab.output.renderOutput(dataTable, element);\n",
              "          const docLink = document.createElement('div');\n",
              "          docLink.innerHTML = docLinkHtml;\n",
              "          element.appendChild(docLink);\n",
              "        }\n",
              "      </script>\n",
              "    </div>\n",
              "  </div>\n",
              "  "
            ]
          },
          "metadata": {},
          "execution_count": 7
        }
      ]
    },
    {
      "cell_type": "code",
      "source": [
        "phishurl.describe"
      ],
      "metadata": {
        "colab": {
          "base_uri": "https://localhost:8080/"
        },
        "id": "IZGnJjpqJup8",
        "outputId": "e4e27302-140d-4f02-d9a5-8a3899f88296"
      },
      "execution_count": 8,
      "outputs": [
        {
          "output_type": "execute_result",
          "data": {
            "text/plain": [
              "<bound method NDFrame.describe of       phish_id                                                url  \\\n",
              "0      7641804  https://vinted-pl-gj32d.magnesietvloer.top/pro...   \n",
              "1      7630381                    https://s6note.firebaseapp.com/   \n",
              "2      7638847  http://www.vivsveiscesn.visacscevsvei.thowqo.t...   \n",
              "3      7640110          https://login-page-107621.weeblysite.com/   \n",
              "4      7636299  https://7b631qxp.r.us-west-2.awstrack.me/L0/ht...   \n",
              "...        ...                                                ...   \n",
              "4995   7593376  http://www.masceanrd.macosaserd.dohsd.top/ic6o...   \n",
              "4996   7623534  http://www.myjeeascscseeorosebc.oemyieoesjcenc...   \n",
              "4997   7569252     https://login.salaryatsea.mycrewallet.com/rccl   \n",
              "4998   7637696  http://www.vivsieicsen.visaaceievsei.cyrvcc.to...   \n",
              "4999   7615613  http://www.aeseseoiosecsn.asseeososceeueosscea...   \n",
              "\n",
              "                                       phish_detail_url  \\\n",
              "0     http://www.phishtank.com/phish_detail.php?phis...   \n",
              "1     http://www.phishtank.com/phish_detail.php?phis...   \n",
              "2     http://www.phishtank.com/phish_detail.php?phis...   \n",
              "3     http://www.phishtank.com/phish_detail.php?phis...   \n",
              "4     http://www.phishtank.com/phish_detail.php?phis...   \n",
              "...                                                 ...   \n",
              "4995  http://www.phishtank.com/phish_detail.php?phis...   \n",
              "4996  http://www.phishtank.com/phish_detail.php?phis...   \n",
              "4997  http://www.phishtank.com/phish_detail.php?phis...   \n",
              "4998  http://www.phishtank.com/phish_detail.php?phis...   \n",
              "4999  http://www.phishtank.com/phish_detail.php?phis...   \n",
              "\n",
              "                submission_time verified          verification_time online  \\\n",
              "0     2022-08-05T11:06:12+00:00      yes  2022-08-05T11:13:00+00:00    yes   \n",
              "1     2022-07-28T22:50:16+00:00      yes  2022-07-28T23:06:09+00:00    yes   \n",
              "2     2022-08-02T10:01:24+00:00      yes  2022-08-02T11:22:10+00:00    yes   \n",
              "3     2022-08-03T14:18:09+00:00      yes  2022-08-03T14:23:26+00:00    yes   \n",
              "4     2022-08-01T21:05:59+00:00      yes  2022-08-02T02:32:32+00:00    yes   \n",
              "...                         ...      ...                        ...    ...   \n",
              "4995  2022-07-14T04:21:49+00:00      yes  2022-07-14T04:38:25+00:00    yes   \n",
              "4996  2022-07-27T03:36:23+00:00      yes  2022-07-27T05:03:46+00:00    yes   \n",
              "4997  2022-06-28T13:38:06+00:00      yes  2022-07-09T07:35:08+00:00    yes   \n",
              "4998  2022-08-02T08:37:29+00:00      yes  2022-08-02T09:53:18+00:00    yes   \n",
              "4999  2022-07-24T04:17:26+00:00      yes  2022-07-24T04:32:48+00:00    yes   \n",
              "\n",
              "                        target  \n",
              "0              Bank Millennium  \n",
              "1                        Other  \n",
              "2                        NICOS  \n",
              "3                        Other  \n",
              "4     Internal Revenue Service  \n",
              "...                        ...  \n",
              "4995                     NICOS  \n",
              "4996                     NICOS  \n",
              "4997                     Other  \n",
              "4998                     NICOS  \n",
              "4999                     NICOS  \n",
              "\n",
              "[5000 rows x 8 columns]>"
            ]
          },
          "metadata": {},
          "execution_count": 8
        }
      ]
    },
    {
      "cell_type": "code",
      "source": [
        "#As of now author has collected 5000 phishing URLs. Now, he goes ahead to collect the legitimate URLs."
      ],
      "metadata": {
        "id": "lb6AsjHdJypl"
      },
      "execution_count": 9,
      "outputs": []
    },
    {
      "cell_type": "markdown",
      "source": [
        "**Legitimate URLs:**\n",
        "\n",
        "From the uploaded Benign_list_big_final.csv file, the URLs are loaded into a dataframe."
      ],
      "metadata": {
        "id": "0Net0_foJ9TP"
      }
    },
    {
      "cell_type": "code",
      "source": [
        "#Loading legitimate files \n",
        "data1 = pd.read_csv(\"Benign_list_big_final.csv\")\n",
        "data1.columns = ['URLs']\n",
        "data1.head()"
      ],
      "metadata": {
        "colab": {
          "base_uri": "https://localhost:8080/",
          "height": 206
        },
        "id": "mAdWbUTCJ8eb",
        "outputId": "22b738df-6700-4b76-d6f9-abbe81785324"
      },
      "execution_count": 10,
      "outputs": [
        {
          "output_type": "execute_result",
          "data": {
            "text/plain": [
              "                                                URLs\n",
              "0  http://1337x.to/torrent/1110018/Blackhat-2015-...\n",
              "1  http://1337x.to/torrent/1122940/Blackhat-2015-...\n",
              "2  http://1337x.to/torrent/1124395/Fast-and-Furio...\n",
              "3  http://1337x.to/torrent/1145504/Avengers-Age-o...\n",
              "4  http://1337x.to/torrent/1160078/Avengers-age-o..."
            ],
            "text/html": [
              "\n",
              "  <div id=\"df-636c2651-6dc9-4115-ba3e-9f8c1554ff9f\">\n",
              "    <div class=\"colab-df-container\">\n",
              "      <div>\n",
              "<style scoped>\n",
              "    .dataframe tbody tr th:only-of-type {\n",
              "        vertical-align: middle;\n",
              "    }\n",
              "\n",
              "    .dataframe tbody tr th {\n",
              "        vertical-align: top;\n",
              "    }\n",
              "\n",
              "    .dataframe thead th {\n",
              "        text-align: right;\n",
              "    }\n",
              "</style>\n",
              "<table border=\"1\" class=\"dataframe\">\n",
              "  <thead>\n",
              "    <tr style=\"text-align: right;\">\n",
              "      <th></th>\n",
              "      <th>URLs</th>\n",
              "    </tr>\n",
              "  </thead>\n",
              "  <tbody>\n",
              "    <tr>\n",
              "      <th>0</th>\n",
              "      <td>http://1337x.to/torrent/1110018/Blackhat-2015-...</td>\n",
              "    </tr>\n",
              "    <tr>\n",
              "      <th>1</th>\n",
              "      <td>http://1337x.to/torrent/1122940/Blackhat-2015-...</td>\n",
              "    </tr>\n",
              "    <tr>\n",
              "      <th>2</th>\n",
              "      <td>http://1337x.to/torrent/1124395/Fast-and-Furio...</td>\n",
              "    </tr>\n",
              "    <tr>\n",
              "      <th>3</th>\n",
              "      <td>http://1337x.to/torrent/1145504/Avengers-Age-o...</td>\n",
              "    </tr>\n",
              "    <tr>\n",
              "      <th>4</th>\n",
              "      <td>http://1337x.to/torrent/1160078/Avengers-age-o...</td>\n",
              "    </tr>\n",
              "  </tbody>\n",
              "</table>\n",
              "</div>\n",
              "      <button class=\"colab-df-convert\" onclick=\"convertToInteractive('df-636c2651-6dc9-4115-ba3e-9f8c1554ff9f')\"\n",
              "              title=\"Convert this dataframe to an interactive table.\"\n",
              "              style=\"display:none;\">\n",
              "        \n",
              "  <svg xmlns=\"http://www.w3.org/2000/svg\" height=\"24px\"viewBox=\"0 0 24 24\"\n",
              "       width=\"24px\">\n",
              "    <path d=\"M0 0h24v24H0V0z\" fill=\"none\"/>\n",
              "    <path d=\"M18.56 5.44l.94 2.06.94-2.06 2.06-.94-2.06-.94-.94-2.06-.94 2.06-2.06.94zm-11 1L8.5 8.5l.94-2.06 2.06-.94-2.06-.94L8.5 2.5l-.94 2.06-2.06.94zm10 10l.94 2.06.94-2.06 2.06-.94-2.06-.94-.94-2.06-.94 2.06-2.06.94z\"/><path d=\"M17.41 7.96l-1.37-1.37c-.4-.4-.92-.59-1.43-.59-.52 0-1.04.2-1.43.59L10.3 9.45l-7.72 7.72c-.78.78-.78 2.05 0 2.83L4 21.41c.39.39.9.59 1.41.59.51 0 1.02-.2 1.41-.59l7.78-7.78 2.81-2.81c.8-.78.8-2.07 0-2.86zM5.41 20L4 18.59l7.72-7.72 1.47 1.35L5.41 20z\"/>\n",
              "  </svg>\n",
              "      </button>\n",
              "      \n",
              "  <style>\n",
              "    .colab-df-container {\n",
              "      display:flex;\n",
              "      flex-wrap:wrap;\n",
              "      gap: 12px;\n",
              "    }\n",
              "\n",
              "    .colab-df-convert {\n",
              "      background-color: #E8F0FE;\n",
              "      border: none;\n",
              "      border-radius: 50%;\n",
              "      cursor: pointer;\n",
              "      display: none;\n",
              "      fill: #1967D2;\n",
              "      height: 32px;\n",
              "      padding: 0 0 0 0;\n",
              "      width: 32px;\n",
              "    }\n",
              "\n",
              "    .colab-df-convert:hover {\n",
              "      background-color: #E2EBFA;\n",
              "      box-shadow: 0px 1px 2px rgba(60, 64, 67, 0.3), 0px 1px 3px 1px rgba(60, 64, 67, 0.15);\n",
              "      fill: #174EA6;\n",
              "    }\n",
              "\n",
              "    [theme=dark] .colab-df-convert {\n",
              "      background-color: #3B4455;\n",
              "      fill: #D2E3FC;\n",
              "    }\n",
              "\n",
              "    [theme=dark] .colab-df-convert:hover {\n",
              "      background-color: #434B5C;\n",
              "      box-shadow: 0px 1px 3px 1px rgba(0, 0, 0, 0.15);\n",
              "      filter: drop-shadow(0px 1px 2px rgba(0, 0, 0, 0.3));\n",
              "      fill: #FFFFFF;\n",
              "    }\n",
              "  </style>\n",
              "\n",
              "      <script>\n",
              "        const buttonEl =\n",
              "          document.querySelector('#df-636c2651-6dc9-4115-ba3e-9f8c1554ff9f button.colab-df-convert');\n",
              "        buttonEl.style.display =\n",
              "          google.colab.kernel.accessAllowed ? 'block' : 'none';\n",
              "\n",
              "        async function convertToInteractive(key) {\n",
              "          const element = document.querySelector('#df-636c2651-6dc9-4115-ba3e-9f8c1554ff9f');\n",
              "          const dataTable =\n",
              "            await google.colab.kernel.invokeFunction('convertToInteractive',\n",
              "                                                     [key], {});\n",
              "          if (!dataTable) return;\n",
              "\n",
              "          const docLinkHtml = 'Like what you see? Visit the ' +\n",
              "            '<a target=\"_blank\" href=https://colab.research.google.com/notebooks/data_table.ipynb>data table notebook</a>'\n",
              "            + ' to learn more about interactive tables.';\n",
              "          element.innerHTML = '';\n",
              "          dataTable['output_type'] = 'display_data';\n",
              "          await google.colab.output.renderOutput(dataTable, element);\n",
              "          const docLink = document.createElement('div');\n",
              "          docLink.innerHTML = docLinkHtml;\n",
              "          element.appendChild(docLink);\n",
              "        }\n",
              "      </script>\n",
              "    </div>\n",
              "  </div>\n",
              "  "
            ]
          },
          "metadata": {},
          "execution_count": 10
        }
      ]
    },
    {
      "cell_type": "code",
      "source": [
        "#Collecting 5,000 Legitimate URLs randomly\n",
        "legiurl = data1.sample(n = 5000, random_state = 12).copy()\n",
        "legiurl = legiurl.reset_index(drop=True)\n",
        "legiurl.head()"
      ],
      "metadata": {
        "colab": {
          "base_uri": "https://localhost:8080/",
          "height": 206
        },
        "id": "xlDnPPpCKLO8",
        "outputId": "a1fdffea-c8f2-4a78-8626-433c902eabd1"
      },
      "execution_count": 11,
      "outputs": [
        {
          "output_type": "execute_result",
          "data": {
            "text/plain": [
              "                                                URLs\n",
              "0  http://graphicriver.net/search?date=this-month...\n",
              "1  http://ecnavi.jp/redirect/?url=http://www.cros...\n",
              "2  https://hubpages.com/signin?explain=follow+Hub...\n",
              "3  http://extratorrent.cc/torrent/4190536/AOMEI+B...\n",
              "4  http://icicibank.com/Personal-Banking/offers/o..."
            ],
            "text/html": [
              "\n",
              "  <div id=\"df-3bdf6310-6cb7-4b5f-b081-665ebaa8309a\">\n",
              "    <div class=\"colab-df-container\">\n",
              "      <div>\n",
              "<style scoped>\n",
              "    .dataframe tbody tr th:only-of-type {\n",
              "        vertical-align: middle;\n",
              "    }\n",
              "\n",
              "    .dataframe tbody tr th {\n",
              "        vertical-align: top;\n",
              "    }\n",
              "\n",
              "    .dataframe thead th {\n",
              "        text-align: right;\n",
              "    }\n",
              "</style>\n",
              "<table border=\"1\" class=\"dataframe\">\n",
              "  <thead>\n",
              "    <tr style=\"text-align: right;\">\n",
              "      <th></th>\n",
              "      <th>URLs</th>\n",
              "    </tr>\n",
              "  </thead>\n",
              "  <tbody>\n",
              "    <tr>\n",
              "      <th>0</th>\n",
              "      <td>http://graphicriver.net/search?date=this-month...</td>\n",
              "    </tr>\n",
              "    <tr>\n",
              "      <th>1</th>\n",
              "      <td>http://ecnavi.jp/redirect/?url=http://www.cros...</td>\n",
              "    </tr>\n",
              "    <tr>\n",
              "      <th>2</th>\n",
              "      <td>https://hubpages.com/signin?explain=follow+Hub...</td>\n",
              "    </tr>\n",
              "    <tr>\n",
              "      <th>3</th>\n",
              "      <td>http://extratorrent.cc/torrent/4190536/AOMEI+B...</td>\n",
              "    </tr>\n",
              "    <tr>\n",
              "      <th>4</th>\n",
              "      <td>http://icicibank.com/Personal-Banking/offers/o...</td>\n",
              "    </tr>\n",
              "  </tbody>\n",
              "</table>\n",
              "</div>\n",
              "      <button class=\"colab-df-convert\" onclick=\"convertToInteractive('df-3bdf6310-6cb7-4b5f-b081-665ebaa8309a')\"\n",
              "              title=\"Convert this dataframe to an interactive table.\"\n",
              "              style=\"display:none;\">\n",
              "        \n",
              "  <svg xmlns=\"http://www.w3.org/2000/svg\" height=\"24px\"viewBox=\"0 0 24 24\"\n",
              "       width=\"24px\">\n",
              "    <path d=\"M0 0h24v24H0V0z\" fill=\"none\"/>\n",
              "    <path d=\"M18.56 5.44l.94 2.06.94-2.06 2.06-.94-2.06-.94-.94-2.06-.94 2.06-2.06.94zm-11 1L8.5 8.5l.94-2.06 2.06-.94-2.06-.94L8.5 2.5l-.94 2.06-2.06.94zm10 10l.94 2.06.94-2.06 2.06-.94-2.06-.94-.94-2.06-.94 2.06-2.06.94z\"/><path d=\"M17.41 7.96l-1.37-1.37c-.4-.4-.92-.59-1.43-.59-.52 0-1.04.2-1.43.59L10.3 9.45l-7.72 7.72c-.78.78-.78 2.05 0 2.83L4 21.41c.39.39.9.59 1.41.59.51 0 1.02-.2 1.41-.59l7.78-7.78 2.81-2.81c.8-.78.8-2.07 0-2.86zM5.41 20L4 18.59l7.72-7.72 1.47 1.35L5.41 20z\"/>\n",
              "  </svg>\n",
              "      </button>\n",
              "      \n",
              "  <style>\n",
              "    .colab-df-container {\n",
              "      display:flex;\n",
              "      flex-wrap:wrap;\n",
              "      gap: 12px;\n",
              "    }\n",
              "\n",
              "    .colab-df-convert {\n",
              "      background-color: #E8F0FE;\n",
              "      border: none;\n",
              "      border-radius: 50%;\n",
              "      cursor: pointer;\n",
              "      display: none;\n",
              "      fill: #1967D2;\n",
              "      height: 32px;\n",
              "      padding: 0 0 0 0;\n",
              "      width: 32px;\n",
              "    }\n",
              "\n",
              "    .colab-df-convert:hover {\n",
              "      background-color: #E2EBFA;\n",
              "      box-shadow: 0px 1px 2px rgba(60, 64, 67, 0.3), 0px 1px 3px 1px rgba(60, 64, 67, 0.15);\n",
              "      fill: #174EA6;\n",
              "    }\n",
              "\n",
              "    [theme=dark] .colab-df-convert {\n",
              "      background-color: #3B4455;\n",
              "      fill: #D2E3FC;\n",
              "    }\n",
              "\n",
              "    [theme=dark] .colab-df-convert:hover {\n",
              "      background-color: #434B5C;\n",
              "      box-shadow: 0px 1px 3px 1px rgba(0, 0, 0, 0.15);\n",
              "      filter: drop-shadow(0px 1px 2px rgba(0, 0, 0, 0.3));\n",
              "      fill: #FFFFFF;\n",
              "    }\n",
              "  </style>\n",
              "\n",
              "      <script>\n",
              "        const buttonEl =\n",
              "          document.querySelector('#df-3bdf6310-6cb7-4b5f-b081-665ebaa8309a button.colab-df-convert');\n",
              "        buttonEl.style.display =\n",
              "          google.colab.kernel.accessAllowed ? 'block' : 'none';\n",
              "\n",
              "        async function convertToInteractive(key) {\n",
              "          const element = document.querySelector('#df-3bdf6310-6cb7-4b5f-b081-665ebaa8309a');\n",
              "          const dataTable =\n",
              "            await google.colab.kernel.invokeFunction('convertToInteractive',\n",
              "                                                     [key], {});\n",
              "          if (!dataTable) return;\n",
              "\n",
              "          const docLinkHtml = 'Like what you see? Visit the ' +\n",
              "            '<a target=\"_blank\" href=https://colab.research.google.com/notebooks/data_table.ipynb>data table notebook</a>'\n",
              "            + ' to learn more about interactive tables.';\n",
              "          element.innerHTML = '';\n",
              "          dataTable['output_type'] = 'display_data';\n",
              "          await google.colab.output.renderOutput(dataTable, element);\n",
              "          const docLink = document.createElement('div');\n",
              "          docLink.innerHTML = docLinkHtml;\n",
              "          element.appendChild(docLink);\n",
              "        }\n",
              "      </script>\n",
              "    </div>\n",
              "  </div>\n",
              "  "
            ]
          },
          "metadata": {},
          "execution_count": 11
        }
      ]
    },
    {
      "cell_type": "code",
      "source": [
        "legiurl.describe"
      ],
      "metadata": {
        "colab": {
          "base_uri": "https://localhost:8080/"
        },
        "id": "GXlSjtZdLg-b",
        "outputId": "43b1bb9d-60ca-46a5-94a5-ab9304577e8a"
      },
      "execution_count": 12,
      "outputs": [
        {
          "output_type": "execute_result",
          "data": {
            "text/plain": [
              "<bound method NDFrame.describe of                                                    URLs\n",
              "0     http://graphicriver.net/search?date=this-month...\n",
              "1     http://ecnavi.jp/redirect/?url=http://www.cros...\n",
              "2     https://hubpages.com/signin?explain=follow+Hub...\n",
              "3     http://extratorrent.cc/torrent/4190536/AOMEI+B...\n",
              "4     http://icicibank.com/Personal-Banking/offers/o...\n",
              "...                                                 ...\n",
              "4995  http://getpocket.com/signup?mode=socialmode&ro...\n",
              "4996  http://olx.ro/i2/electronice-si-electrocasnice...\n",
              "4997  https://medium.com/@brianforde/hi-matt-that-s-...\n",
              "4998  http://thenextweb.com/au/2013/08/31/25-mbps-br...\n",
              "4999  http://smallseotools.com/blog/the-difference-b...\n",
              "\n",
              "[5000 rows x 1 columns]>"
            ]
          },
          "metadata": {},
          "execution_count": 12
        }
      ]
    },
    {
      "cell_type": "markdown",
      "source": [
        "**Feature Extraction**"
      ],
      "metadata": {
        "id": "OwbrLYAdLpWj"
      }
    },
    {
      "cell_type": "markdown",
      "source": [
        "In this step, features are extracted from the URLs dataset.\n",
        "\n",
        "The extracted features are categorized into\n",
        "\n",
        "    Address Bar based Features\n",
        "    Domain based Features\n",
        "    HTML & Javascript based Features\n"
      ],
      "metadata": {
        "id": "gOD5OMpXL7gb"
      }
    },
    {
      "cell_type": "markdown",
      "source": [
        "**Address Bar Based Features**\n",
        "\n",
        "Many features can be extracted that can be consided as address bar base features. Out of them, below mentioned were considered for this project.\n",
        "\n",
        "    Domain of URL\n",
        "    IP Address in URL\n",
        "    \"@\" Symbol in URL\n",
        "    Length of URL\n",
        "    Depth of URL\n",
        "    Redirection \"//\" in URL\n",
        "    \"http/https\" in Domain name\n",
        "    Using URL Shortening Services “TinyURL”\n",
        "    Prefix or Suffix \"-\" in Domain\n",
        "\n",
        "Each of these features are explained and the coded below:"
      ],
      "metadata": {
        "id": "01KU6xw-MLSD"
      }
    },
    {
      "cell_type": "code",
      "source": [
        "# importing required packages for this section\n",
        "from urllib.parse import urlparse,urlencode\n",
        "import ipaddress\n",
        "import re"
      ],
      "metadata": {
        "id": "BMLhaWtFMQxs"
      },
      "execution_count": 13,
      "outputs": []
    },
    {
      "cell_type": "markdown",
      "source": [
        "**Domain of the URL**\n",
        "\n",
        "Here, we are just extracting the domain present in the URL. This feature doesn't have much significance in the training. May even be dropped while training the model."
      ],
      "metadata": {
        "id": "mJFpPjd2MUCK"
      }
    },
    {
      "cell_type": "code",
      "source": [
        "#Domain of the URL (Domain) \n",
        "def getDomain(url):  \n",
        "  domain = urlparse(url).netloc\n",
        "  if re.match(r\"^www.\",domain):\n",
        "\t       domain = domain.replace(\"www.\",\"\")\n",
        "  return domain"
      ],
      "metadata": {
        "id": "PX6sfs29MXMl"
      },
      "execution_count": 14,
      "outputs": []
    },
    {
      "cell_type": "markdown",
      "source": [
        "**IP Address in the URL**\n",
        "\n",
        "Checks for the presence of IP address in the URL. URLs may have IP address instead of domain name. If an IP address is used as an alternative of the domain name in the URL, we can be sure that someone is trying to steal personal information with this URL.\n",
        "\n",
        "If the domain part of URL has IP address, the value assigned to this feature is 1 (phishing) or else 0 (legitimate)."
      ],
      "metadata": {
        "id": "oj6L9UtlMl64"
      }
    },
    {
      "cell_type": "code",
      "source": [
        "#Checks for IP address in URL (Have_IP)\n",
        "def havingIP(url):\n",
        "  try:\n",
        "    ipaddress.ip_address(url)\n",
        "    ip = 1\n",
        "  except:\n",
        "    ip = 0\n",
        "  return ip"
      ],
      "metadata": {
        "id": "mYOM6J8jMwyO"
      },
      "execution_count": 15,
      "outputs": []
    },
    {
      "cell_type": "markdown",
      "source": [
        "**\"@\" Symbol in URL**\n",
        "\n",
        "Checks for the presence of '@' symbol in the URL. Using “@” symbol in the URL leads the browser to ignore everything preceding the “@” symbol and the real address often follows the “@” symbol.\n",
        "\n",
        "If the URL has '@' symbol, the value assigned to this feature is 1 (phishing) or else 0 (legitimate)."
      ],
      "metadata": {
        "id": "80-OKPEIM3Nx"
      }
    },
    {
      "cell_type": "code",
      "source": [
        "#Checks the presence of @ in URL (Have_At)\n",
        "def haveAtSign(url):\n",
        "  if \"@\" in url:\n",
        "    at = 1    \n",
        "  else:\n",
        "    at = 0    \n",
        "  return at"
      ],
      "metadata": {
        "id": "YotdBnStM8K_"
      },
      "execution_count": 16,
      "outputs": []
    },
    {
      "cell_type": "markdown",
      "source": [
        "**Length of URL**\n",
        "\n",
        "Computes the length of the URL. Phishers can use long URL to hide the doubtful part in the address bar. In this project, if the length of the URL is greater than or equal 54 characters then the URL classified as phishing otherwise legitimate.\n",
        "\n",
        "If the length of URL >= 54 , the value assigned to this feature is 1 (phishing) or else 0 (legitimate)."
      ],
      "metadata": {
        "id": "WTf8avD6NAON"
      }
    },
    {
      "cell_type": "code",
      "source": [
        "#Finding the length of URL and categorizing (URL_Length)\n",
        "def getLength(url):\n",
        "  if len(url) < 54:\n",
        "    length = 0            \n",
        "  else:\n",
        "    length = 1            \n",
        "  return length"
      ],
      "metadata": {
        "id": "VRGbIf5mNGo-"
      },
      "execution_count": 17,
      "outputs": []
    },
    {
      "cell_type": "markdown",
      "source": [
        "**Depth of URL**\n",
        "\n",
        "Computes the depth of the URL. This feature calculates the number of sub pages in the given url based on the '/'.\n",
        "\n",
        "The value of feature is a numerical based on the URL."
      ],
      "metadata": {
        "id": "hhaYB1y8NLW8"
      }
    },
    {
      "cell_type": "code",
      "source": [
        "#Gives number of '/' in URL (URL_Depth)\n",
        "def getDepth(url):\n",
        "  s = urlparse(url).path.split('/')\n",
        "  depth = 0\n",
        "  for j in range(len(s)):\n",
        "    if len(s[j]) != 0:\n",
        "      depth = depth+1\n",
        "  return depth"
      ],
      "metadata": {
        "id": "RgSOl0tfNSW3"
      },
      "execution_count": 18,
      "outputs": []
    },
    {
      "cell_type": "markdown",
      "source": [
        "**Redirection \"//\" in URL**\n",
        "\n",
        "Checks the presence of \"//\" in the URL. The existence of “//” within the URL path means that the user will be redirected to another website. The location of the “//” in URL is computed. We find that if the URL starts with “HTTP”, that means the “//” should appear in the sixth position. However, if the URL employs “HTTPS” then the “//” should appear in seventh position.\n",
        "\n",
        "If the \"//\" is anywhere in the URL apart from after the protocol, the value assigned to this feature is 1 (phishing) or else 0 (legitimate)."
      ],
      "metadata": {
        "id": "zkqxq1ZsNVuJ"
      }
    },
    {
      "cell_type": "code",
      "source": [
        "#Checking for redirection '//' in the url (Redirection)\n",
        "def redirection(url):\n",
        "  pos = url.rfind('//')\n",
        "  if pos > 6:\n",
        "    if pos > 7:\n",
        "      return 1\n",
        "    else:\n",
        "      return 0\n",
        "  else:\n",
        "    return 0"
      ],
      "metadata": {
        "id": "xqqPpeQcNfvd"
      },
      "execution_count": 19,
      "outputs": []
    },
    {
      "cell_type": "markdown",
      "source": [
        "**\"http/https\" in Domain name**\n",
        "\n",
        "Checks for the presence of \"http/https\" in the domain part of the URL. The phishers may add the “HTTPS” token to the domain part of a URL in order to trick users.\n",
        "\n",
        "If the URL has \"http/https\" in the domain part, the value assigned to this feature is 1 (phishing) or else 0 (legitimate)."
      ],
      "metadata": {
        "id": "Rtes5mn2Nk2O"
      }
    },
    {
      "cell_type": "code",
      "source": [
        "#Existence of “HTTPS” Token in the Domain Part of the URL (https_Domain)\n",
        "def httpDomain(url):\n",
        "  domain = urlparse(url).netloc\n",
        "  if 'https' in domain:\n",
        "    return 1\n",
        "  else:\n",
        "    return 0"
      ],
      "metadata": {
        "id": "VzB7qUnvNpwf"
      },
      "execution_count": 20,
      "outputs": []
    },
    {
      "cell_type": "markdown",
      "source": [
        "**Using URL Shortening Services “TinyURL”**\n",
        "\n",
        "URL shortening is a method on the “World Wide Web” in which a URL may be made considerably smaller in length and still lead to the required webpage. This is accomplished by means of an “HTTP Redirect” on a domain name that is short, which links to the webpage that has a long URL.\n",
        "\n",
        "If the URL is using Shortening Services, the value assigned to this feature is 1 (phishing) or else 0 (legitimate)."
      ],
      "metadata": {
        "id": "fhFy5yurNvZO"
      }
    },
    {
      "cell_type": "code",
      "source": [
        "#listing shortening services\n",
        "shortening_services = r\"bit\\.ly|goo\\.gl|shorte\\.st|go2l\\.ink|x\\.co|ow\\.ly|t\\.co|tinyurl|tr\\.im|is\\.gd|cli\\.gs|\" \\\n",
        "                      r\"yfrog\\.com|migre\\.me|ff\\.im|tiny\\.cc|url4\\.eu|twit\\.ac|su\\.pr|twurl\\.nl|snipurl\\.com|\" \\\n",
        "                      r\"short\\.to|BudURL\\.com|ping\\.fm|post\\.ly|Just\\.as|bkite\\.com|snipr\\.com|fic\\.kr|loopt\\.us|\" \\\n",
        "                      r\"doiop\\.com|short\\.ie|kl\\.am|wp\\.me|rubyurl\\.com|om\\.ly|to\\.ly|bit\\.do|t\\.co|lnkd\\.in|db\\.tt|\" \\\n",
        "                      r\"qr\\.ae|adf\\.ly|goo\\.gl|bitly\\.com|cur\\.lv|tinyurl\\.com|ow\\.ly|bit\\.ly|ity\\.im|q\\.gs|is\\.gd|\" \\\n",
        "                      r\"po\\.st|bc\\.vc|twitthis\\.com|u\\.to|j\\.mp|buzurl\\.com|cutt\\.us|u\\.bb|yourls\\.org|x\\.co|\" \\\n",
        "                      r\"prettylinkpro\\.com|scrnch\\.me|filoops\\.info|vzturl\\.com|qr\\.net|1url\\.com|tweez\\.me|v\\.gd|\" \\\n",
        "                      r\"tr\\.im|link\\.zip\\.net\""
      ],
      "metadata": {
        "id": "wVo0mVewN0yS"
      },
      "execution_count": 21,
      "outputs": []
    },
    {
      "cell_type": "code",
      "source": [
        "#Checking for Shortening Services in URL (Tiny_URL)\n",
        "def tinyURL(url):\n",
        "    match=re.search(shortening_services,url)\n",
        "    if match:\n",
        "        return 1\n",
        "    else:\n",
        "        return 0"
      ],
      "metadata": {
        "id": "3w6M-u-vN3B6"
      },
      "execution_count": 22,
      "outputs": []
    },
    {
      "cell_type": "markdown",
      "source": [
        "**Prefix or Suffix \"-\" in Domain**\n",
        "\n",
        "Checking the presence of '-' in the domain part of URL. The dash symbol is rarely used in legitimate URLs. Phishers tend to add prefixes or suffixes separated by (-) to the domain name so that users feel that they are dealing with a legitimate webpage.\n",
        "\n",
        "If the URL has '-' symbol in the domain part of the URL, the value assigned to this feature is 1 (phishing) or else 0 (legitimate)."
      ],
      "metadata": {
        "id": "cmvcv89dN8pR"
      }
    },
    {
      "cell_type": "code",
      "source": [
        "#Checking for Prefix or Suffix Separated by (-) in the Domain (Prefix/Suffix)\n",
        "def prefixSuffix(url):\n",
        "    if '-' in urlparse(url).netloc:\n",
        "        return 1            # phishing\n",
        "    else:\n",
        "        return 0            # legitimate"
      ],
      "metadata": {
        "id": "ZE2lqufdOD2t"
      },
      "execution_count": 23,
      "outputs": []
    },
    {
      "cell_type": "markdown",
      "source": [
        "**Domain Based Features**\n",
        "\n",
        "Many features can be extracted that come under this category. Out of them, below mentioned were considered for this project.\n",
        "\n",
        "    DNS Record\n",
        "    Website Traffic\n",
        "    Age of Domain\n",
        "    End Period of Domain\n",
        "\n",
        "Each of these features are explained and the coded below:"
      ],
      "metadata": {
        "id": "xHqDCb9ROIL-"
      }
    },
    {
      "cell_type": "code",
      "source": [
        "!pip install python-whois"
      ],
      "metadata": {
        "colab": {
          "base_uri": "https://localhost:8080/"
        },
        "id": "jkn_t1nAOMws",
        "outputId": "80706a1c-12b3-4fce-a614-83b7bae101f0"
      },
      "execution_count": 24,
      "outputs": [
        {
          "output_type": "stream",
          "name": "stdout",
          "text": [
            "Looking in indexes: https://pypi.org/simple, https://us-python.pkg.dev/colab-wheels/public/simple/\n",
            "Collecting python-whois\n",
            "  Downloading python-whois-0.8.0.tar.gz (109 kB)\n",
            "\u001b[K     |████████████████████████████████| 109 kB 5.3 MB/s \n",
            "\u001b[?25hRequirement already satisfied: future in /usr/local/lib/python3.7/dist-packages (from python-whois) (0.16.0)\n",
            "Building wheels for collected packages: python-whois\n",
            "  Building wheel for python-whois (setup.py) ... \u001b[?25l\u001b[?25hdone\n",
            "  Created wheel for python-whois: filename=python_whois-0.8.0-py3-none-any.whl size=103263 sha256=b1a35fcc6cc0201853c11074b8ae3dda3b96695edeae4bc1f919c9a412a726df\n",
            "  Stored in directory: /root/.cache/pip/wheels/ae/7d/a1/7cfba90ff34974c64149b70f689ff77dde232b8f1ec5de43b3\n",
            "Successfully built python-whois\n",
            "Installing collected packages: python-whois\n",
            "Successfully installed python-whois-0.8.0\n"
          ]
        }
      ]
    },
    {
      "cell_type": "code",
      "source": [
        "# importing required packages for this section\n",
        "import re\n",
        "from bs4 import BeautifulSoup\n",
        "import whois\n",
        "import urllib\n",
        "import urllib.request\n",
        "from datetime import datetime"
      ],
      "metadata": {
        "id": "WerbcJiXOQC5"
      },
      "execution_count": 25,
      "outputs": []
    },
    {
      "cell_type": "markdown",
      "source": [
        "**DNS Record**\n",
        "\n",
        "For phishing websites, either the claimed identity is not recognized by the WHOIS database or no records founded for the hostname. If the DNS record is empty or not found then, the value assigned to this feature is 1 (phishing) or else 0 (legitimate).\n",
        "\n",
        "DNS Record availability (DNS_Record)\n",
        "obtained in the featureExtraction function itself"
      ],
      "metadata": {
        "id": "UkqZ_a7VOfit"
      }
    },
    {
      "cell_type": "markdown",
      "source": [
        "**Web Traffic**\n",
        "\n",
        "This feature measures the popularity of the website by determining the number of visitors and the number of pages they visit. However, since phishing websites live for a short period of time, they may not be recognized by the Alexa database (Alexa the Web Information Company., 1996). By reviewing our dataset, we find that in worst scenarios, legitimate websites ranked among the top 100,000. Furthermore, if the domain has no traffic or is not recognized by the Alexa database, it is classified as “Phishing”.\n",
        "\n",
        "If the rank of the domain < 100000, the vlaue of this feature is 1 (phishing) else 0 (legitimate)."
      ],
      "metadata": {
        "id": "bK2jlloVO36u"
      }
    },
    {
      "cell_type": "code",
      "source": [
        "#Web traffic (Web_Traffic)\n",
        "def web_traffic(url):\n",
        "  try:\n",
        "    #Filling the whitespaces in the URL if any\n",
        "    url = urllib.parse.quote(url)\n",
        "    rank = BeautifulSoup(urllib.request.urlopen(\"http://data.alexa.com/data?cli=10&dat=s&url=\" + url).read(), \"xml\").find(\n",
        "        \"REACH\")['RANK']\n",
        "    rank = int(rank)\n",
        "  except TypeError:\n",
        "        return 1\n",
        "  if rank <100000:\n",
        "    return 1\n",
        "  else:\n",
        "    return 0"
      ],
      "metadata": {
        "id": "6lOgZKLTPBxX"
      },
      "execution_count": 26,
      "outputs": []
    },
    {
      "cell_type": "markdown",
      "source": [
        "**Age of Domain**\n",
        "\n",
        "This feature can be extracted from WHOIS database. Most phishing websites live for a short period of time. The minimum age of the legitimate domain is considered to be 12 months for this project. Age here is nothing but different between creation and expiration time.\n",
        "\n",
        "If age of domain > 12 months, the vlaue of this feature is 1 (phishing) else 0 (legitimate)."
      ],
      "metadata": {
        "id": "uBQV3kknPFUO"
      }
    },
    {
      "cell_type": "code",
      "source": [
        "#Survival time of domain: The difference between termination time and creation time (Domain_Age)  \n",
        "def domainAge(domain_name):\n",
        "  creation_date = domain_name.creation_date\n",
        "  expiration_date = domain_name.expiration_date\n",
        "  if (isinstance(creation_date,str) or isinstance(expiration_date,str)):\n",
        "    try:\n",
        "      creation_date = datetime.strptime(creation_date,'%Y-%m-%d')\n",
        "      expiration_date = datetime.strptime(expiration_date,\"%Y-%m-%d\")\n",
        "    except:\n",
        "      return 1\n",
        "  if ((expiration_date is None) or (creation_date is None)):\n",
        "      return 1\n",
        "  elif ((type(expiration_date) is list) or (type(creation_date) is list)):\n",
        "      return 1\n",
        "  else:\n",
        "    ageofdomain = abs((expiration_date - creation_date).days)\n",
        "    if ((ageofdomain/30) < 6):\n",
        "      age = 1\n",
        "    else:\n",
        "      age = 0\n",
        "  return age"
      ],
      "metadata": {
        "id": "YDy8wrxePLmw"
      },
      "execution_count": 27,
      "outputs": []
    },
    {
      "cell_type": "markdown",
      "source": [
        "**End Period of Domain**\n",
        "\n",
        "This feature can be extracted from WHOIS database. For this feature, the remaining domain time is calculated by finding the different between expiration time & current time. The end period considered for the legitimate domain is 6 months or less for this project.\n",
        "\n",
        "If end period of domain > 6 months, the vlaue of this feature is 1 (phishing) else 0 (legitimate)."
      ],
      "metadata": {
        "id": "vvgOVa6cPSFu"
      }
    },
    {
      "cell_type": "code",
      "source": [
        "#End time of domain: The difference between termination time and current time (Domain_End) \n",
        "def domainEnd(domain_name):\n",
        "  expiration_date = domain_name.expiration_date\n",
        "  if isinstance(expiration_date,str):\n",
        "    try:\n",
        "      expiration_date = datetime.strptime(expiration_date,\"%Y-%m-%d\")\n",
        "    except:\n",
        "      return 1\n",
        "  if (expiration_date is None):\n",
        "      return 1\n",
        "  elif (type(expiration_date) is list):\n",
        "      return 1\n",
        "  else:\n",
        "    today = datetime.now()\n",
        "    end = abs((expiration_date - today).days)\n",
        "    if ((end/30) < 6):\n",
        "      end = 0\n",
        "    else:\n",
        "      end = 1\n",
        "  return end"
      ],
      "metadata": {
        "id": "Jf38A0MbPdmD"
      },
      "execution_count": 28,
      "outputs": []
    },
    {
      "cell_type": "markdown",
      "source": [
        "**HTML and JavaScript based Features**\n",
        "\n",
        "Many features can be extracted that come under this category. Out of them, below mentioned were considered for this project.\n",
        "\n",
        "    IFrame Redirection\n",
        "    Status Bar Customization\n",
        "    Disabling Right Click\n",
        "    Website Forwarding\n",
        "\n",
        "Each of these features are explained and the coded below:"
      ],
      "metadata": {
        "id": "uezIcID9PhLf"
      }
    },
    {
      "cell_type": "code",
      "source": [
        "# importing required packages for this section\n",
        "import requests"
      ],
      "metadata": {
        "id": "IzGBmSD5PlSH"
      },
      "execution_count": 29,
      "outputs": []
    },
    {
      "cell_type": "markdown",
      "source": [
        "**IFrame Redirection**\n",
        "\n",
        "IFrame is an HTML tag used to display an additional webpage into one that is currently shown. Phishers can make use of the “iframe” tag and make it invisible i.e. without frame borders. In this regard, phishers make use of the “frameBorder” attribute which causes the browser to render a visual delineation.\n",
        "\n",
        "If the iframe is empty or repsonse is not found then, the value assigned to this feature is 1 (phishing) or else 0 (legitimate)."
      ],
      "metadata": {
        "id": "eEX7MpQ0PopF"
      }
    },
    {
      "cell_type": "code",
      "source": [
        "#IFrame Redirection (iFrame)\n",
        "def iframe(response):\n",
        "  if response == \"\":\n",
        "      return 1\n",
        "  else:\n",
        "      if re.findall(r\"[<iframe>|<frameBorder>]\", response.text):\n",
        "          return 0\n",
        "      else:\n",
        "          return 1"
      ],
      "metadata": {
        "id": "ZvKR1d9RPufh"
      },
      "execution_count": 30,
      "outputs": []
    },
    {
      "cell_type": "markdown",
      "source": [
        "**Status Bar Customization**\n",
        "\n",
        "Phishers may use JavaScript to show a fake URL in the status bar to users. To extract this feature, we must dig-out the webpage source code, particularly the “onMouseOver” event, and check if it makes any changes on the status bar\n",
        "\n",
        "If the response is empty or onmouseover is found then, the value assigned to this feature is 1 (phishing) or else 0 (legitimate)."
      ],
      "metadata": {
        "id": "SLB15aYqP0xf"
      }
    },
    {
      "cell_type": "code",
      "source": [
        "#Checks the effect of mouse over on status bar (Mouse_Over)\n",
        "def mouseOver(response): \n",
        "  if response == \"\" :\n",
        "    return 1\n",
        "  else:\n",
        "    if re.findall(\"<script>.+onmouseover.+</script>\", response.text):\n",
        "      return 1\n",
        "    else:\n",
        "      return 0"
      ],
      "metadata": {
        "id": "mxer8VYNQOEa"
      },
      "execution_count": 31,
      "outputs": []
    },
    {
      "cell_type": "markdown",
      "source": [
        "**Disabling Right Click**\n",
        "\n",
        "Phishers use JavaScript to disable the right-click function, so that users cannot view and save the webpage source code. This feature is treated exactly as “Using onMouseOver to hide the Link”. Nonetheless, for this feature, we will search for event “event.button==2” in the webpage source code and check if the right click is disabled.\n",
        "\n",
        "If the response is empty or onmouseover is not found then, the value assigned to this feature is 1 (phishing) or else 0 (legitimate)."
      ],
      "metadata": {
        "id": "X3QlDOqoQSP5"
      }
    },
    {
      "cell_type": "code",
      "source": [
        "#Checks the status of the right click attribute (Right_Click)\n",
        "def rightClick(response):\n",
        "  if response == \"\":\n",
        "    return 1\n",
        "  else:\n",
        "    if re.findall(r\"event.button ?== ?2\", response.text):\n",
        "      return 0\n",
        "    else:\n",
        "      return 1"
      ],
      "metadata": {
        "id": "532TrHjdQbv8"
      },
      "execution_count": 32,
      "outputs": []
    },
    {
      "cell_type": "markdown",
      "source": [
        "**Website Forwarding**\n",
        "\n",
        "The fine line that distinguishes phishing websites from legitimate ones is how many times a website has been redirected. In our dataset, we find that legitimate websites have been redirected one time max. On the other hand, phishing websites containing this feature have been redirected at least 4 times. "
      ],
      "metadata": {
        "id": "45l9bRqvQevD"
      }
    },
    {
      "cell_type": "code",
      "source": [
        "#Checks the number of forwardings (Web_Forwards)    \n",
        "def forwarding(response):\n",
        "  if response == \"\":\n",
        "    return 1\n",
        "  else:\n",
        "    if len(response.history) <= 2:\n",
        "      return 0\n",
        "    else:\n",
        "      return 1"
      ],
      "metadata": {
        "id": "y97jGprRQuwA"
      },
      "execution_count": 33,
      "outputs": []
    },
    {
      "cell_type": "markdown",
      "source": [
        "**Computing URL Features**\n",
        "\n",
        "Create a list and a function that calls the other functions and stores all the features of the URL in the list. We will extract the features of each URL and append to this list."
      ],
      "metadata": {
        "id": "mTk0WDmMQx41"
      }
    },
    {
      "cell_type": "code",
      "source": [
        "#Function to extract features\n",
        "def featureExtraction(url,label):\n",
        "\n",
        "  features = []\n",
        "  #Address bar based features (10)\n",
        "  features.append(getDomain(url))\n",
        "  features.append(havingIP(url))\n",
        "  features.append(haveAtSign(url))\n",
        "  features.append(getLength(url))\n",
        "  features.append(getDepth(url))\n",
        "  features.append(redirection(url))\n",
        "  features.append(httpDomain(url))\n",
        "  features.append(tinyURL(url))\n",
        "  features.append(prefixSuffix(url))\n",
        "  \n",
        "  #Domain based features (4)\n",
        "  dns = 0\n",
        "  try:\n",
        "    domain_name = whois.whois(urlparse(url).netloc)\n",
        "  except:\n",
        "    dns = 1\n",
        "\n",
        "  features.append(dns)\n",
        "  features.append(web_traffic(url))\n",
        "  features.append(1 if dns == 1 else domainAge(domain_name))\n",
        "  features.append(1 if dns == 1 else domainEnd(domain_name))\n",
        "  \n",
        "  # HTML & Javascript based features (4)\n",
        "  try:\n",
        "    response = requests.get(url)\n",
        "  except:\n",
        "    response = \"\"\n",
        "  features.append(iframe(response))\n",
        "  features.append(mouseOver(response))\n",
        "  features.append(rightClick(response))\n",
        "  features.append(forwarding(response))\n",
        "  features.append(label)\n",
        "  \n",
        "  return features"
      ],
      "metadata": {
        "id": "P1CkYt4fQ8wX"
      },
      "execution_count": 34,
      "outputs": []
    },
    {
      "cell_type": "markdown",
      "source": [
        "**Legitimate URLs**\n",
        "\n",
        "Now, feature extraction is done on legitimate URLs."
      ],
      "metadata": {
        "id": "2881OfTmRALV"
      }
    },
    {
      "cell_type": "code",
      "source": [
        "legiurl.describe"
      ],
      "metadata": {
        "colab": {
          "base_uri": "https://localhost:8080/"
        },
        "id": "Hrg7aazYRDDQ",
        "outputId": "2c44cda6-14d0-4660-84c3-98f755ec96ad"
      },
      "execution_count": 35,
      "outputs": [
        {
          "output_type": "execute_result",
          "data": {
            "text/plain": [
              "<bound method NDFrame.describe of                                                    URLs\n",
              "0     http://graphicriver.net/search?date=this-month...\n",
              "1     http://ecnavi.jp/redirect/?url=http://www.cros...\n",
              "2     https://hubpages.com/signin?explain=follow+Hub...\n",
              "3     http://extratorrent.cc/torrent/4190536/AOMEI+B...\n",
              "4     http://icicibank.com/Personal-Banking/offers/o...\n",
              "...                                                 ...\n",
              "4995  http://getpocket.com/signup?mode=socialmode&ro...\n",
              "4996  http://olx.ro/i2/electronice-si-electrocasnice...\n",
              "4997  https://medium.com/@brianforde/hi-matt-that-s-...\n",
              "4998  http://thenextweb.com/au/2013/08/31/25-mbps-br...\n",
              "4999  http://smallseotools.com/blog/the-difference-b...\n",
              "\n",
              "[5000 rows x 1 columns]>"
            ]
          },
          "metadata": {},
          "execution_count": 35
        }
      ]
    },
    {
      "cell_type": "code",
      "source": [
        "#Extracting the feautres & storing them in a list\n",
        "legi_features = []\n",
        "label = 0\n",
        "\n",
        "for i in range(0, 5000):\n",
        "  url = legiurl['URLs'][i]\n",
        "  legi_features.append(featureExtraction(url,label))"
      ],
      "metadata": {
        "colab": {
          "base_uri": "https://localhost:8080/"
        },
        "id": "hHvTnsTZRGQQ",
        "outputId": "9835f649-f1bb-4adc-adad-d26273cbc688"
      },
      "execution_count": null,
      "outputs": [
        {
          "output_type": "stream",
          "name": "stdout",
          "text": [
            "Error trying to connect to socket: closing socket - [Errno -2] Name or service not known\n",
            "Error trying to connect to socket: closing socket - [Errno -2] Name or service not known\n"
          ]
        }
      ]
    },
    {
      "cell_type": "code",
      "source": [
        "#converting the list to dataframe\n",
        "feature_names = ['Domain', 'Have_IP', 'Have_At', 'URL_Length', 'URL_Depth','Redirection', \n",
        "                      'https_Domain', 'TinyURL', 'Prefix/Suffix', 'DNS_Record', 'Web_Traffic', \n",
        "                      'Domain_Age', 'Domain_End', 'iFrame', 'Mouse_Over','Right_Click', 'Web_Forwards', 'Label']\n",
        "\n",
        "legitimate = pd.DataFrame(legi_features, columns= feature_names)\n",
        "legitimate.head()"
      ],
      "metadata": {
        "id": "FQSN3panRJoC"
      },
      "execution_count": null,
      "outputs": []
    },
    {
      "cell_type": "code",
      "source": [
        ""
      ],
      "metadata": {
        "id": "lZZmwHZpfP4b"
      },
      "execution_count": null,
      "outputs": []
    }
  ]
}