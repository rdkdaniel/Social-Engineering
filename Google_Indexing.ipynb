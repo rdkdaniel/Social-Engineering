{
  "nbformat": 4,
  "nbformat_minor": 0,
  "metadata": {
    "colab": {
      "name": "Google Indexing",
      "provenance": [],
      "authorship_tag": "ABX9TyPGQIv3NdfS/VzGTHUrCg9m",
      "include_colab_link": true
    },
    "kernelspec": {
      "name": "python3",
      "display_name": "Python 3"
    },
    "language_info": {
      "name": "python"
    }
  },
  "cells": [
    {
      "cell_type": "markdown",
      "metadata": {
        "id": "view-in-github",
        "colab_type": "text"
      },
      "source": [
        "<a href=\"https://colab.research.google.com/github/rdkdaniel/Social-Engineering/blob/main/Google_Indexing.ipynb\" target=\"_parent\"><img src=\"https://colab.research.google.com/assets/colab-badge.svg\" alt=\"Open In Colab\"/></a>"
      ]
    },
    {
      "cell_type": "code",
      "execution_count": null,
      "metadata": {
        "id": "ES-84g09Ta4B"
      },
      "outputs": [],
      "source": [
        ""
      ]
    },
    {
      "cell_type": "markdown",
      "source": [
        "Improve your google index\n",
        "Get your website indexed by Google\n",
        "Good content: https://ahrefs.com/blog/google-index/"
      ],
      "metadata": {
        "id": "sNBv_0q6TdGM"
      }
    },
    {
      "cell_type": "markdown",
      "source": [
        "Ten ways to have google index a website"
      ],
      "metadata": {
        "id": "q4xDP8AWYJuw"
      }
    },
    {
      "cell_type": "code",
      "source": [
        "#Crawl blocks"
      ],
      "metadata": {
        "id": "8P3HtiDyYm8g"
      },
      "execution_count": 1,
      "outputs": []
    },
    {
      "cell_type": "markdown",
      "source": [
        "1. Crawl blocks\n",
        "2. Noindex tags\n",
        "3. Sitemap\n",
        "4. Rogue canonical tags\n",
        "5. "
      ],
      "metadata": {
        "id": "AauCQktKYWX1"
      }
    }
  ]
}