{
  "nbformat": 4,
  "nbformat_minor": 0,
  "metadata": {
    "colab": {
      "name": "Phishing Detetion Complete",
      "provenance": [],
      "authorship_tag": "ABX9TyP96iB8f0vp5D5a3G1e6Fmu",
      "include_colab_link": true
    },
    "kernelspec": {
      "name": "python3",
      "display_name": "Python 3"
    },
    "language_info": {
      "name": "python"
    }
  },
  "cells": [
    {
      "cell_type": "markdown",
      "metadata": {
        "id": "view-in-github",
        "colab_type": "text"
      },
      "source": [
        "<a href=\"https://colab.research.google.com/github/rdkdaniel/Social-Engineering/blob/main/Phishing_Detetion_Complete_borrowed.ipynb\" target=\"_parent\"><img src=\"https://colab.research.google.com/assets/colab-badge.svg\" alt=\"Open In Colab\"/></a>"
      ]
    },
    {
      "cell_type": "code",
      "execution_count": null,
      "metadata": {
        "id": "hPKuw-1XRn3W"
      },
      "outputs": [],
      "source": [
        ""
      ]
    },
    {
      "cell_type": "markdown",
      "source": [
        "https://colab.research.google.com/github/shreyagopal/Phishing-Website-Detection-by-Machine-Learning-Techniques/blob/master/Phishing%20Website%20Detection_Models%20%26%20Training.ipynb"
      ],
      "metadata": {
        "id": "p8enTXLQRtQU"
      }
    },
    {
      "cell_type": "code",
      "source": [
        "#Libraries\n",
        "import pandas as pd\n",
        "import numpy as np\n",
        "import seaborn as sns\n",
        "import matplotlib.pyplot as plt"
      ],
      "metadata": {
        "id": "h2QnbuLVVKjX"
      },
      "execution_count": 1,
      "outputs": []
    },
    {
      "cell_type": "code",
      "source": [
        "#Loading the data - uploaded from local disk\n",
        "data0 = pd.read_csv('5.urldata.csv')\n",
        "data0.head()"
      ],
      "metadata": {
        "id": "Vddyy-fGVPXA",
        "outputId": "a6bc9757-9a38-4f56-8a72-c2ec73065501",
        "colab": {
          "base_uri": "https://localhost:8080/",
          "height": 270
        }
      },
      "execution_count": 2,
      "outputs": [
        {
          "output_type": "execute_result",
          "data": {
            "text/plain": [
              "             Domain  Have_IP  Have_At  URL_Length  URL_Depth  Redirection  \\\n",
              "0  graphicriver.net        0        0           1          1            0   \n",
              "1         ecnavi.jp        0        0           1          1            1   \n",
              "2      hubpages.com        0        0           1          1            0   \n",
              "3   extratorrent.cc        0        0           1          3            0   \n",
              "4     icicibank.com        0        0           1          3            0   \n",
              "\n",
              "   https_Domain  TinyURL  Prefix/Suffix  DNS_Record  Web_Traffic  Domain_Age  \\\n",
              "0             0        0              0           0            1           1   \n",
              "1             0        0              0           0            1           1   \n",
              "2             0        0              0           0            1           0   \n",
              "3             0        0              0           0            1           0   \n",
              "4             0        0              0           0            1           0   \n",
              "\n",
              "   Domain_End  iFrame  Mouse_Over  Right_Click  Web_Forwards  Label  \n",
              "0           1       0           0            1             0      0  \n",
              "1           1       0           0            1             0      0  \n",
              "2           1       0           0            1             0      0  \n",
              "3           1       0           0            1             0      0  \n",
              "4           1       0           0            1             0      0  "
            ],
            "text/html": [
              "\n",
              "  <div id=\"df-f4f82025-ecc9-4776-ab4e-bd05e5da9bdd\">\n",
              "    <div class=\"colab-df-container\">\n",
              "      <div>\n",
              "<style scoped>\n",
              "    .dataframe tbody tr th:only-of-type {\n",
              "        vertical-align: middle;\n",
              "    }\n",
              "\n",
              "    .dataframe tbody tr th {\n",
              "        vertical-align: top;\n",
              "    }\n",
              "\n",
              "    .dataframe thead th {\n",
              "        text-align: right;\n",
              "    }\n",
              "</style>\n",
              "<table border=\"1\" class=\"dataframe\">\n",
              "  <thead>\n",
              "    <tr style=\"text-align: right;\">\n",
              "      <th></th>\n",
              "      <th>Domain</th>\n",
              "      <th>Have_IP</th>\n",
              "      <th>Have_At</th>\n",
              "      <th>URL_Length</th>\n",
              "      <th>URL_Depth</th>\n",
              "      <th>Redirection</th>\n",
              "      <th>https_Domain</th>\n",
              "      <th>TinyURL</th>\n",
              "      <th>Prefix/Suffix</th>\n",
              "      <th>DNS_Record</th>\n",
              "      <th>Web_Traffic</th>\n",
              "      <th>Domain_Age</th>\n",
              "      <th>Domain_End</th>\n",
              "      <th>iFrame</th>\n",
              "      <th>Mouse_Over</th>\n",
              "      <th>Right_Click</th>\n",
              "      <th>Web_Forwards</th>\n",
              "      <th>Label</th>\n",
              "    </tr>\n",
              "  </thead>\n",
              "  <tbody>\n",
              "    <tr>\n",
              "      <th>0</th>\n",
              "      <td>graphicriver.net</td>\n",
              "      <td>0</td>\n",
              "      <td>0</td>\n",
              "      <td>1</td>\n",
              "      <td>1</td>\n",
              "      <td>0</td>\n",
              "      <td>0</td>\n",
              "      <td>0</td>\n",
              "      <td>0</td>\n",
              "      <td>0</td>\n",
              "      <td>1</td>\n",
              "      <td>1</td>\n",
              "      <td>1</td>\n",
              "      <td>0</td>\n",
              "      <td>0</td>\n",
              "      <td>1</td>\n",
              "      <td>0</td>\n",
              "      <td>0</td>\n",
              "    </tr>\n",
              "    <tr>\n",
              "      <th>1</th>\n",
              "      <td>ecnavi.jp</td>\n",
              "      <td>0</td>\n",
              "      <td>0</td>\n",
              "      <td>1</td>\n",
              "      <td>1</td>\n",
              "      <td>1</td>\n",
              "      <td>0</td>\n",
              "      <td>0</td>\n",
              "      <td>0</td>\n",
              "      <td>0</td>\n",
              "      <td>1</td>\n",
              "      <td>1</td>\n",
              "      <td>1</td>\n",
              "      <td>0</td>\n",
              "      <td>0</td>\n",
              "      <td>1</td>\n",
              "      <td>0</td>\n",
              "      <td>0</td>\n",
              "    </tr>\n",
              "    <tr>\n",
              "      <th>2</th>\n",
              "      <td>hubpages.com</td>\n",
              "      <td>0</td>\n",
              "      <td>0</td>\n",
              "      <td>1</td>\n",
              "      <td>1</td>\n",
              "      <td>0</td>\n",
              "      <td>0</td>\n",
              "      <td>0</td>\n",
              "      <td>0</td>\n",
              "      <td>0</td>\n",
              "      <td>1</td>\n",
              "      <td>0</td>\n",
              "      <td>1</td>\n",
              "      <td>0</td>\n",
              "      <td>0</td>\n",
              "      <td>1</td>\n",
              "      <td>0</td>\n",
              "      <td>0</td>\n",
              "    </tr>\n",
              "    <tr>\n",
              "      <th>3</th>\n",
              "      <td>extratorrent.cc</td>\n",
              "      <td>0</td>\n",
              "      <td>0</td>\n",
              "      <td>1</td>\n",
              "      <td>3</td>\n",
              "      <td>0</td>\n",
              "      <td>0</td>\n",
              "      <td>0</td>\n",
              "      <td>0</td>\n",
              "      <td>0</td>\n",
              "      <td>1</td>\n",
              "      <td>0</td>\n",
              "      <td>1</td>\n",
              "      <td>0</td>\n",
              "      <td>0</td>\n",
              "      <td>1</td>\n",
              "      <td>0</td>\n",
              "      <td>0</td>\n",
              "    </tr>\n",
              "    <tr>\n",
              "      <th>4</th>\n",
              "      <td>icicibank.com</td>\n",
              "      <td>0</td>\n",
              "      <td>0</td>\n",
              "      <td>1</td>\n",
              "      <td>3</td>\n",
              "      <td>0</td>\n",
              "      <td>0</td>\n",
              "      <td>0</td>\n",
              "      <td>0</td>\n",
              "      <td>0</td>\n",
              "      <td>1</td>\n",
              "      <td>0</td>\n",
              "      <td>1</td>\n",
              "      <td>0</td>\n",
              "      <td>0</td>\n",
              "      <td>1</td>\n",
              "      <td>0</td>\n",
              "      <td>0</td>\n",
              "    </tr>\n",
              "  </tbody>\n",
              "</table>\n",
              "</div>\n",
              "      <button class=\"colab-df-convert\" onclick=\"convertToInteractive('df-f4f82025-ecc9-4776-ab4e-bd05e5da9bdd')\"\n",
              "              title=\"Convert this dataframe to an interactive table.\"\n",
              "              style=\"display:none;\">\n",
              "        \n",
              "  <svg xmlns=\"http://www.w3.org/2000/svg\" height=\"24px\"viewBox=\"0 0 24 24\"\n",
              "       width=\"24px\">\n",
              "    <path d=\"M0 0h24v24H0V0z\" fill=\"none\"/>\n",
              "    <path d=\"M18.56 5.44l.94 2.06.94-2.06 2.06-.94-2.06-.94-.94-2.06-.94 2.06-2.06.94zm-11 1L8.5 8.5l.94-2.06 2.06-.94-2.06-.94L8.5 2.5l-.94 2.06-2.06.94zm10 10l.94 2.06.94-2.06 2.06-.94-2.06-.94-.94-2.06-.94 2.06-2.06.94z\"/><path d=\"M17.41 7.96l-1.37-1.37c-.4-.4-.92-.59-1.43-.59-.52 0-1.04.2-1.43.59L10.3 9.45l-7.72 7.72c-.78.78-.78 2.05 0 2.83L4 21.41c.39.39.9.59 1.41.59.51 0 1.02-.2 1.41-.59l7.78-7.78 2.81-2.81c.8-.78.8-2.07 0-2.86zM5.41 20L4 18.59l7.72-7.72 1.47 1.35L5.41 20z\"/>\n",
              "  </svg>\n",
              "      </button>\n",
              "      \n",
              "  <style>\n",
              "    .colab-df-container {\n",
              "      display:flex;\n",
              "      flex-wrap:wrap;\n",
              "      gap: 12px;\n",
              "    }\n",
              "\n",
              "    .colab-df-convert {\n",
              "      background-color: #E8F0FE;\n",
              "      border: none;\n",
              "      border-radius: 50%;\n",
              "      cursor: pointer;\n",
              "      display: none;\n",
              "      fill: #1967D2;\n",
              "      height: 32px;\n",
              "      padding: 0 0 0 0;\n",
              "      width: 32px;\n",
              "    }\n",
              "\n",
              "    .colab-df-convert:hover {\n",
              "      background-color: #E2EBFA;\n",
              "      box-shadow: 0px 1px 2px rgba(60, 64, 67, 0.3), 0px 1px 3px 1px rgba(60, 64, 67, 0.15);\n",
              "      fill: #174EA6;\n",
              "    }\n",
              "\n",
              "    [theme=dark] .colab-df-convert {\n",
              "      background-color: #3B4455;\n",
              "      fill: #D2E3FC;\n",
              "    }\n",
              "\n",
              "    [theme=dark] .colab-df-convert:hover {\n",
              "      background-color: #434B5C;\n",
              "      box-shadow: 0px 1px 3px 1px rgba(0, 0, 0, 0.15);\n",
              "      filter: drop-shadow(0px 1px 2px rgba(0, 0, 0, 0.3));\n",
              "      fill: #FFFFFF;\n",
              "    }\n",
              "  </style>\n",
              "\n",
              "      <script>\n",
              "        const buttonEl =\n",
              "          document.querySelector('#df-f4f82025-ecc9-4776-ab4e-bd05e5da9bdd button.colab-df-convert');\n",
              "        buttonEl.style.display =\n",
              "          google.colab.kernel.accessAllowed ? 'block' : 'none';\n",
              "\n",
              "        async function convertToInteractive(key) {\n",
              "          const element = document.querySelector('#df-f4f82025-ecc9-4776-ab4e-bd05e5da9bdd');\n",
              "          const dataTable =\n",
              "            await google.colab.kernel.invokeFunction('convertToInteractive',\n",
              "                                                     [key], {});\n",
              "          if (!dataTable) return;\n",
              "\n",
              "          const docLinkHtml = 'Like what you see? Visit the ' +\n",
              "            '<a target=\"_blank\" href=https://colab.research.google.com/notebooks/data_table.ipynb>data table notebook</a>'\n",
              "            + ' to learn more about interactive tables.';\n",
              "          element.innerHTML = '';\n",
              "          dataTable['output_type'] = 'display_data';\n",
              "          await google.colab.output.renderOutput(dataTable, element);\n",
              "          const docLink = document.createElement('div');\n",
              "          docLink.innerHTML = docLinkHtml;\n",
              "          element.appendChild(docLink);\n",
              "        }\n",
              "      </script>\n",
              "    </div>\n",
              "  </div>\n",
              "  "
            ]
          },
          "metadata": {},
          "execution_count": 2
        }
      ]
    },
    {
      "cell_type": "markdown",
      "source": [
        "**Data Engagement:)**"
      ],
      "metadata": {
        "id": "rQOKMuCZVbH2"
      }
    },
    {
      "cell_type": "code",
      "source": [
        "data0.describe\n"
      ],
      "metadata": {
        "id": "iZ_0gaLkVoPn",
        "outputId": "55bda319-7c25-44c7-945f-3889b369e899",
        "colab": {
          "base_uri": "https://localhost:8080/"
        }
      },
      "execution_count": 3,
      "outputs": [
        {
          "output_type": "execute_result",
          "data": {
            "text/plain": [
              "<bound method NDFrame.describe of                           Domain  Have_IP  Have_At  URL_Length  URL_Depth  \\\n",
              "0               graphicriver.net        0        0           1          1   \n",
              "1                      ecnavi.jp        0        0           1          1   \n",
              "2                   hubpages.com        0        0           1          1   \n",
              "3                extratorrent.cc        0        0           1          3   \n",
              "4                  icicibank.com        0        0           1          3   \n",
              "...                          ...      ...      ...         ...        ...   \n",
              "9995     wvk12-my.sharepoint.com        0        0           1          5   \n",
              "9996                 adplife.com        0        0           1          4   \n",
              "9997           kurortnoye.com.ua        0        1           1          3   \n",
              "9998  norcaltc-my.sharepoint.com        0        0           1          5   \n",
              "9999       sieck-kuehlsysteme.de        0        1           1          4   \n",
              "\n",
              "      Redirection  https_Domain  TinyURL  Prefix/Suffix  DNS_Record  \\\n",
              "0               0             0        0              0           0   \n",
              "1               1             0        0              0           0   \n",
              "2               0             0        0              0           0   \n",
              "3               0             0        0              0           0   \n",
              "4               0             0        0              0           0   \n",
              "...           ...           ...      ...            ...         ...   \n",
              "9995            0             0        1              1           0   \n",
              "9996            0             0        0              0           0   \n",
              "9997            0             0        1              0           0   \n",
              "9998            0             0        1              1           0   \n",
              "9999            0             0        1              1           0   \n",
              "\n",
              "      Web_Traffic  Domain_Age  Domain_End  iFrame  Mouse_Over  Right_Click  \\\n",
              "0               1           1           1       0           0            1   \n",
              "1               1           1           1       0           0            1   \n",
              "2               1           0           1       0           0            1   \n",
              "3               1           0           1       0           0            1   \n",
              "4               1           0           1       0           0            1   \n",
              "...           ...         ...         ...     ...         ...          ...   \n",
              "9995            1           1           1       0           0            1   \n",
              "9996            1           0           1       0           0            1   \n",
              "9997            0           1           1       1           0            1   \n",
              "9998            1           1           1       0           0            1   \n",
              "9999            1           1           1       0           0            1   \n",
              "\n",
              "      Web_Forwards  Label  \n",
              "0                0      0  \n",
              "1                0      0  \n",
              "2                0      0  \n",
              "3                0      0  \n",
              "4                0      0  \n",
              "...            ...    ...  \n",
              "9995             0      1  \n",
              "9996             0      1  \n",
              "9997             0      1  \n",
              "9998             0      1  \n",
              "9999             0      1  \n",
              "\n",
              "[10000 rows x 18 columns]>"
            ]
          },
          "metadata": {},
          "execution_count": 3
        }
      ]
    },
    {
      "cell_type": "code",
      "source": [
        "data0.columns"
      ],
      "metadata": {
        "id": "o_oCMpyaVtgA",
        "outputId": "d16d0320-312a-4ea9-ea27-77a78ed58db8",
        "colab": {
          "base_uri": "https://localhost:8080/"
        }
      },
      "execution_count": 4,
      "outputs": [
        {
          "output_type": "execute_result",
          "data": {
            "text/plain": [
              "Index(['Domain', 'Have_IP', 'Have_At', 'URL_Length', 'URL_Depth',\n",
              "       'Redirection', 'https_Domain', 'TinyURL', 'Prefix/Suffix', 'DNS_Record',\n",
              "       'Web_Traffic', 'Domain_Age', 'Domain_End', 'iFrame', 'Mouse_Over',\n",
              "       'Right_Click', 'Web_Forwards', 'Label'],\n",
              "      dtype='object')"
            ]
          },
          "metadata": {},
          "execution_count": 4
        }
      ]
    },
    {
      "cell_type": "code",
      "source": [
        "data0.info()"
      ],
      "metadata": {
        "id": "QIYj3dCbVweH",
        "outputId": "004006b2-f56c-4c4a-cd2c-d56357609146",
        "colab": {
          "base_uri": "https://localhost:8080/"
        }
      },
      "execution_count": 5,
      "outputs": [
        {
          "output_type": "stream",
          "name": "stdout",
          "text": [
            "<class 'pandas.core.frame.DataFrame'>\n",
            "RangeIndex: 10000 entries, 0 to 9999\n",
            "Data columns (total 18 columns):\n",
            " #   Column         Non-Null Count  Dtype \n",
            "---  ------         --------------  ----- \n",
            " 0   Domain         10000 non-null  object\n",
            " 1   Have_IP        10000 non-null  int64 \n",
            " 2   Have_At        10000 non-null  int64 \n",
            " 3   URL_Length     10000 non-null  int64 \n",
            " 4   URL_Depth      10000 non-null  int64 \n",
            " 5   Redirection    10000 non-null  int64 \n",
            " 6   https_Domain   10000 non-null  int64 \n",
            " 7   TinyURL        10000 non-null  int64 \n",
            " 8   Prefix/Suffix  10000 non-null  int64 \n",
            " 9   DNS_Record     10000 non-null  int64 \n",
            " 10  Web_Traffic    10000 non-null  int64 \n",
            " 11  Domain_Age     10000 non-null  int64 \n",
            " 12  Domain_End     10000 non-null  int64 \n",
            " 13  iFrame         10000 non-null  int64 \n",
            " 14  Mouse_Over     10000 non-null  int64 \n",
            " 15  Right_Click    10000 non-null  int64 \n",
            " 16  Web_Forwards   10000 non-null  int64 \n",
            " 17  Label          10000 non-null  int64 \n",
            "dtypes: int64(17), object(1)\n",
            "memory usage: 1.4+ MB\n"
          ]
        }
      ]
    },
    {
      "cell_type": "markdown",
      "source": [
        "**Data Visualization**"
      ],
      "metadata": {
        "id": "0IEtZ9r9V0vK"
      }
    },
    {
      "cell_type": "code",
      "source": [
        "#Plotting the data distribution\n",
        "data0.hist(bins = 50,figsize = (15,15))\n",
        "plt.show()"
      ],
      "metadata": {
        "id": "TvkxO4DAV3ze",
        "outputId": "3cb951bd-d863-4937-8faa-92bada6a6963",
        "colab": {
          "base_uri": "https://localhost:8080/",
          "height": 879
        }
      },
      "execution_count": 6,
      "outputs": [
        {
          "output_type": "display_data",
          "data": {
            "text/plain": [
              "<Figure size 1080x1080 with 20 Axes>"
            ],
            "image/png": "[encoded data removed]"
          },
          "metadata": {
            "needs_background": "light"
          }
        }
      ]
    },
    {
      "cell_type": "code",
      "source": [
        "#Correlation heatmap\n",
        "plt.figure(figsize=(15,13))\n",
        "sns.heatmap(data0.corr())\n",
        "plt.show()"
      ],
      "metadata": {
        "id": "InAql50AV6IB",
        "outputId": "58723bab-2fe6-4078-ad93-89f6be30b844",
        "colab": {
          "base_uri": "https://localhost:8080/",
          "height": 821
        }
      },
      "execution_count": 7,
      "outputs": [
        {
          "output_type": "display_data",
          "data": {
            "text/plain": [
              "<Figure size 1080x936 with 2 Axes>"
            ],
            "image/png": "[encoded data removed]"
          },
          "metadata": {
            "needs_background": "light"
          }
        }
      ]
    },
    {
      "cell_type": "markdown",
      "source": [
        "**Pre-processing Data**"
      ],
      "metadata": {
        "id": "6qtPlx5DWC1w"
      }
    },
    {
      "cell_type": "code",
      "source": [
        "data0.describe()"
      ],
      "metadata": {
        "id": "q5wukH2NV-yX",
        "outputId": "d430287f-910e-4a59-a05c-a450d13213c9",
        "colab": {
          "base_uri": "https://localhost:8080/",
          "height": 364
        }
      },
      "execution_count": 8,
      "outputs": [
        {
          "output_type": "execute_result",
          "data": {
            "text/plain": [
              "            Have_IP       Have_At    URL_Length     URL_Depth   Redirection  \\\n",
              "count  10000.000000  10000.000000  10000.000000  10000.000000  10000.000000   \n",
              "mean       0.005500      0.022600      0.773400      3.072000      0.013500   \n",
              "std        0.073961      0.148632      0.418653      2.128631      0.115408   \n",
              "min        0.000000      0.000000      0.000000      0.000000      0.000000   \n",
              "25%        0.000000      0.000000      1.000000      2.000000      0.000000   \n",
              "50%        0.000000      0.000000      1.000000      3.000000      0.000000   \n",
              "75%        0.000000      0.000000      1.000000      4.000000      0.000000   \n",
              "max        1.000000      1.000000      1.000000     20.000000      1.000000   \n",
              "\n",
              "       https_Domain       TinyURL  Prefix/Suffix    DNS_Record   Web_Traffic  \\\n",
              "count  10000.000000  10000.000000   10000.000000  10000.000000  10000.000000   \n",
              "mean       0.000200      0.090300       0.093200      0.100800      0.845700   \n",
              "std        0.014141      0.286625       0.290727      0.301079      0.361254   \n",
              "min        0.000000      0.000000       0.000000      0.000000      0.000000   \n",
              "25%        0.000000      0.000000       0.000000      0.000000      1.000000   \n",
              "50%        0.000000      0.000000       0.000000      0.000000      1.000000   \n",
              "75%        0.000000      0.000000       0.000000      0.000000      1.000000   \n",
              "max        1.000000      1.000000       1.000000      1.000000      1.000000   \n",
              "\n",
              "         Domain_Age  Domain_End        iFrame   Mouse_Over  Right_Click  \\\n",
              "count  10000.000000  10000.0000  10000.000000  10000.00000  10000.00000   \n",
              "mean       0.413700      0.8099      0.090900      0.06660      0.99930   \n",
              "std        0.492521      0.3924      0.287481      0.24934      0.02645   \n",
              "min        0.000000      0.0000      0.000000      0.00000      0.00000   \n",
              "25%        0.000000      1.0000      0.000000      0.00000      1.00000   \n",
              "50%        0.000000      1.0000      0.000000      0.00000      1.00000   \n",
              "75%        1.000000      1.0000      0.000000      0.00000      1.00000   \n",
              "max        1.000000      1.0000      1.000000      1.00000      1.00000   \n",
              "\n",
              "       Web_Forwards         Label  \n",
              "count  10000.000000  10000.000000  \n",
              "mean       0.105300      0.500000  \n",
              "std        0.306955      0.500025  \n",
              "min        0.000000      0.000000  \n",
              "25%        0.000000      0.000000  \n",
              "50%        0.000000      0.500000  \n",
              "75%        0.000000      1.000000  \n",
              "max        1.000000      1.000000  "
            ],
            "text/html": [
              "\n",
              "  <div id=\"df-52f7bf1a-ad6e-4729-bd6a-7ea26910d8b1\">\n",
              "    <div class=\"colab-df-container\">\n",
              "      <div>\n",
              "<style scoped>\n",
              "    .dataframe tbody tr th:only-of-type {\n",
              "        vertical-align: middle;\n",
              "    }\n",
              "\n",
              "    .dataframe tbody tr th {\n",
              "        vertical-align: top;\n",
              "    }\n",
              "\n",
              "    .dataframe thead th {\n",
              "        text-align: right;\n",
              "    }\n",
              "</style>\n",
              "<table border=\"1\" class=\"dataframe\">\n",
              "  <thead>\n",
              "    <tr style=\"text-align: right;\">\n",
              "      <th></th>\n",
              "      <th>Have_IP</th>\n",
              "      <th>Have_At</th>\n",
              "      <th>URL_Length</th>\n",
              "      <th>URL_Depth</th>\n",
              "      <th>Redirection</th>\n",
              "      <th>https_Domain</th>\n",
              "      <th>TinyURL</th>\n",
              "      <th>Prefix/Suffix</th>\n",
              "      <th>DNS_Record</th>\n",
              "      <th>Web_Traffic</th>\n",
              "      <th>Domain_Age</th>\n",
              "      <th>Domain_End</th>\n",
              "      <th>iFrame</th>\n",
              "      <th>Mouse_Over</th>\n",
              "      <th>Right_Click</th>\n",
              "      <th>Web_Forwards</th>\n",
              "      <th>Label</th>\n",
              "    </tr>\n",
              "  </thead>\n",
              "  <tbody>\n",
              "    <tr>\n",
              "      <th>count</th>\n",
              "      <td>10000.000000</td>\n",
              "      <td>10000.000000</td>\n",
              "      <td>10000.000000</td>\n",
              "      <td>10000.000000</td>\n",
              "      <td>10000.000000</td>\n",
              "      <td>10000.000000</td>\n",
              "      <td>10000.000000</td>\n",
              "      <td>10000.000000</td>\n",
              "      <td>10000.000000</td>\n",
              "      <td>10000.000000</td>\n",
              "      <td>10000.000000</td>\n",
              "      <td>10000.0000</td>\n",
              "      <td>10000.000000</td>\n",
              "      <td>10000.00000</td>\n",
              "      <td>10000.00000</td>\n",
              "      <td>10000.000000</td>\n",
              "      <td>10000.000000</td>\n",
              "    </tr>\n",
              "    <tr>\n",
              "      <th>mean</th>\n",
              "      <td>0.005500</td>\n",
              "      <td>0.022600</td>\n",
              "      <td>0.773400</td>\n",
              "      <td>3.072000</td>\n",
              "      <td>0.013500</td>\n",
              "      <td>0.000200</td>\n",
              "      <td>0.090300</td>\n",
              "      <td>0.093200</td>\n",
              "      <td>0.100800</td>\n",
              "      <td>0.845700</td>\n",
              "      <td>0.413700</td>\n",
              "      <td>0.8099</td>\n",
              "      <td>0.090900</td>\n",
              "      <td>0.06660</td>\n",
              "      <td>0.99930</td>\n",
              "      <td>0.105300</td>\n",
              "      <td>0.500000</td>\n",
              "    </tr>\n",
              "    <tr>\n",
              "      <th>std</th>\n",
              "      <td>0.073961</td>\n",
              "      <td>0.148632</td>\n",
              "      <td>0.418653</td>\n",
              "      <td>2.128631</td>\n",
              "      <td>0.115408</td>\n",
              "      <td>0.014141</td>\n",
              "      <td>0.286625</td>\n",
              "      <td>0.290727</td>\n",
              "      <td>0.301079</td>\n",
              "      <td>0.361254</td>\n",
              "      <td>0.492521</td>\n",
              "      <td>0.3924</td>\n",
              "      <td>0.287481</td>\n",
              "      <td>0.24934</td>\n",
              "      <td>0.02645</td>\n",
              "      <td>0.306955</td>\n",
              "      <td>0.500025</td>\n",
              "    </tr>\n",
              "    <tr>\n",
              "      <th>min</th>\n",
              "      <td>0.000000</td>\n",
              "      <td>0.000000</td>\n",
              "      <td>0.000000</td>\n",
              "      <td>0.000000</td>\n",
              "      <td>0.000000</td>\n",
              "      <td>0.000000</td>\n",
              "      <td>0.000000</td>\n",
              "      <td>0.000000</td>\n",
              "      <td>0.000000</td>\n",
              "      <td>0.000000</td>\n",
              "      <td>0.000000</td>\n",
              "      <td>0.0000</td>\n",
              "      <td>0.000000</td>\n",
              "      <td>0.00000</td>\n",
              "      <td>0.00000</td>\n",
              "      <td>0.000000</td>\n",
              "      <td>0.000000</td>\n",
              "    </tr>\n",
              "    <tr>\n",
              "      <th>25%</th>\n",
              "      <td>0.000000</td>\n",
              "      <td>0.000000</td>\n",
              "      <td>1.000000</td>\n",
              "      <td>2.000000</td>\n",
              "      <td>0.000000</td>\n",
              "      <td>0.000000</td>\n",
              "      <td>0.000000</td>\n",
              "      <td>0.000000</td>\n",
              "      <td>0.000000</td>\n",
              "      <td>1.000000</td>\n",
              "      <td>0.000000</td>\n",
              "      <td>1.0000</td>\n",
              "      <td>0.000000</td>\n",
              "      <td>0.00000</td>\n",
              "      <td>1.00000</td>\n",
              "      <td>0.000000</td>\n",
              "      <td>0.000000</td>\n",
              "    </tr>\n",
              "    <tr>\n",
              "      <th>50%</th>\n",
              "      <td>0.000000</td>\n",
              "      <td>0.000000</td>\n",
              "      <td>1.000000</td>\n",
              "      <td>3.000000</td>\n",
              "      <td>0.000000</td>\n",
              "      <td>0.000000</td>\n",
              "      <td>0.000000</td>\n",
              "      <td>0.000000</td>\n",
              "      <td>0.000000</td>\n",
              "      <td>1.000000</td>\n",
              "      <td>0.000000</td>\n",
              "      <td>1.0000</td>\n",
              "      <td>0.000000</td>\n",
              "      <td>0.00000</td>\n",
              "      <td>1.00000</td>\n",
              "      <td>0.000000</td>\n",
              "      <td>0.500000</td>\n",
              "    </tr>\n",
              "    <tr>\n",
              "      <th>75%</th>\n",
              "      <td>0.000000</td>\n",
              "      <td>0.000000</td>\n",
              "      <td>1.000000</td>\n",
              "      <td>4.000000</td>\n",
              "      <td>0.000000</td>\n",
              "      <td>0.000000</td>\n",
              "      <td>0.000000</td>\n",
              "      <td>0.000000</td>\n",
              "      <td>0.000000</td>\n",
              "      <td>1.000000</td>\n",
              "      <td>1.000000</td>\n",
              "      <td>1.0000</td>\n",
              "      <td>0.000000</td>\n",
              "      <td>0.00000</td>\n",
              "      <td>1.00000</td>\n",
              "      <td>0.000000</td>\n",
              "      <td>1.000000</td>\n",
              "    </tr>\n",
              "    <tr>\n",
              "      <th>max</th>\n",
              "      <td>1.000000</td>\n",
              "      <td>1.000000</td>\n",
              "      <td>1.000000</td>\n",
              "      <td>20.000000</td>\n",
              "      <td>1.000000</td>\n",
              "      <td>1.000000</td>\n",
              "      <td>1.000000</td>\n",
              "      <td>1.000000</td>\n",
              "      <td>1.000000</td>\n",
              "      <td>1.000000</td>\n",
              "      <td>1.000000</td>\n",
              "      <td>1.0000</td>\n",
              "      <td>1.000000</td>\n",
              "      <td>1.00000</td>\n",
              "      <td>1.00000</td>\n",
              "      <td>1.000000</td>\n",
              "      <td>1.000000</td>\n",
              "    </tr>\n",
              "  </tbody>\n",
              "</table>\n",
              "</div>\n",
              "      <button class=\"colab-df-convert\" onclick=\"convertToInteractive('df-52f7bf1a-ad6e-4729-bd6a-7ea26910d8b1')\"\n",
              "              title=\"Convert this dataframe to an interactive table.\"\n",
              "              style=\"display:none;\">\n",
              "        \n",
              "  <svg xmlns=\"http://www.w3.org/2000/svg\" height=\"24px\"viewBox=\"0 0 24 24\"\n",
              "       width=\"24px\">\n",
              "    <path d=\"M0 0h24v24H0V0z\" fill=\"none\"/>\n",
              "    <path d=\"M18.56 5.44l.94 2.06.94-2.06 2.06-.94-2.06-.94-.94-2.06-.94 2.06-2.06.94zm-11 1L8.5 8.5l.94-2.06 2.06-.94-2.06-.94L8.5 2.5l-.94 2.06-2.06.94zm10 10l.94 2.06.94-2.06 2.06-.94-2.06-.94-.94-2.06-.94 2.06-2.06.94z\"/><path d=\"M17.41 7.96l-1.37-1.37c-.4-.4-.92-.59-1.43-.59-.52 0-1.04.2-1.43.59L10.3 9.45l-7.72 7.72c-.78.78-.78 2.05 0 2.83L4 21.41c.39.39.9.59 1.41.59.51 0 1.02-.2 1.41-.59l7.78-7.78 2.81-2.81c.8-.78.8-2.07 0-2.86zM5.41 20L4 18.59l7.72-7.72 1.47 1.35L5.41 20z\"/>\n",
              "  </svg>\n",
              "      </button>\n",
              "      \n",
              "  <style>\n",
              "    .colab-df-container {\n",
              "      display:flex;\n",
              "      flex-wrap:wrap;\n",
              "      gap: 12px;\n",
              "    }\n",
              "\n",
              "    .colab-df-convert {\n",
              "      background-color: #E8F0FE;\n",
              "      border: none;\n",
              "      border-radius: 50%;\n",
              "      cursor: pointer;\n",
              "      display: none;\n",
              "      fill: #1967D2;\n",
              "      height: 32px;\n",
              "      padding: 0 0 0 0;\n",
              "      width: 32px;\n",
              "    }\n",
              "\n",
              "    .colab-df-convert:hover {\n",
              "      background-color: #E2EBFA;\n",
              "      box-shadow: 0px 1px 2px rgba(60, 64, 67, 0.3), 0px 1px 3px 1px rgba(60, 64, 67, 0.15);\n",
              "      fill: #174EA6;\n",
              "    }\n",
              "\n",
              "    [theme=dark] .colab-df-convert {\n",
              "      background-color: #3B4455;\n",
              "      fill: #D2E3FC;\n",
              "    }\n",
              "\n",
              "    [theme=dark] .colab-df-convert:hover {\n",
              "      background-color: #434B5C;\n",
              "      box-shadow: 0px 1px 3px 1px rgba(0, 0, 0, 0.15);\n",
              "      filter: drop-shadow(0px 1px 2px rgba(0, 0, 0, 0.3));\n",
              "      fill: #FFFFFF;\n",
              "    }\n",
              "  </style>\n",
              "\n",
              "      <script>\n",
              "        const buttonEl =\n",
              "          document.querySelector('#df-52f7bf1a-ad6e-4729-bd6a-7ea26910d8b1 button.colab-df-convert');\n",
              "        buttonEl.style.display =\n",
              "          google.colab.kernel.accessAllowed ? 'block' : 'none';\n",
              "\n",
              "        async function convertToInteractive(key) {\n",
              "          const element = document.querySelector('#df-52f7bf1a-ad6e-4729-bd6a-7ea26910d8b1');\n",
              "          const dataTable =\n",
              "            await google.colab.kernel.invokeFunction('convertToInteractive',\n",
              "                                                     [key], {});\n",
              "          if (!dataTable) return;\n",
              "\n",
              "          const docLinkHtml = 'Like what you see? Visit the ' +\n",
              "            '<a target=\"_blank\" href=https://colab.research.google.com/notebooks/data_table.ipynb>data table notebook</a>'\n",
              "            + ' to learn more about interactive tables.';\n",
              "          element.innerHTML = '';\n",
              "          dataTable['output_type'] = 'display_data';\n",
              "          await google.colab.output.renderOutput(dataTable, element);\n",
              "          const docLink = document.createElement('div');\n",
              "          docLink.innerHTML = docLinkHtml;\n",
              "          element.appendChild(docLink);\n",
              "        }\n",
              "      </script>\n",
              "    </div>\n",
              "  </div>\n",
              "  "
            ]
          },
          "metadata": {},
          "execution_count": 8
        }
      ]
    },
    {
      "cell_type": "code",
      "source": [
        "#Dropping the Domain column\n",
        "data = data0.drop(['Domain'], axis = 1).copy()"
      ],
      "metadata": {
        "id": "0eO256c4WH5_"
      },
      "execution_count": 9,
      "outputs": []
    },
    {
      "cell_type": "code",
      "source": [
        "#checking for null or missing values\n",
        "data.isnull().sum()"
      ],
      "metadata": {
        "id": "fyUqzvgxWLXJ",
        "outputId": "35b7d56c-9b96-4b4b-9cd6-72f78e2c191f",
        "colab": {
          "base_uri": "https://localhost:8080/"
        }
      },
      "execution_count": 10,
      "outputs": [
        {
          "output_type": "execute_result",
          "data": {
            "text/plain": [
              "Have_IP          0\n",
              "Have_At          0\n",
              "URL_Length       0\n",
              "URL_Depth        0\n",
              "Redirection      0\n",
              "https_Domain     0\n",
              "TinyURL          0\n",
              "Prefix/Suffix    0\n",
              "DNS_Record       0\n",
              "Web_Traffic      0\n",
              "Domain_Age       0\n",
              "Domain_End       0\n",
              "iFrame           0\n",
              "Mouse_Over       0\n",
              "Right_Click      0\n",
              "Web_Forwards     0\n",
              "Label            0\n",
              "dtype: int64"
            ]
          },
          "metadata": {},
          "execution_count": 10
        }
      ]
    },
    {
      "cell_type": "markdown",
      "source": [
        "Feature extraction file, the extracted features of legitmate & phishing url datasets are just concatenated without any shuffling. This resulted in top 5000 rows of legitimate url data & bottom 5000 of phishing url data.\n",
        "\n",
        "To even out the distribution while splitting the data into training & testing sets, author shuffles data. This even evades the case of overfitting while model training.\n"
      ],
      "metadata": {
        "id": "j9xyls-CWWW5"
      }
    },
    {
      "cell_type": "code",
      "source": [
        "# shuffling the rows in the dataset so that when splitting the train and test set are equally distributed\n",
        "data = data.sample(frac=1).reset_index(drop=True)\n",
        "data.head()"
      ],
      "metadata": {
        "id": "yV_Zs7CzWPmH",
        "outputId": "b49a2c92-c1b8-4aaf-bde1-09486e0bf23d",
        "colab": {
          "base_uri": "https://localhost:8080/",
          "height": 270
        }
      },
      "execution_count": 11,
      "outputs": [
        {
          "output_type": "execute_result",
          "data": {
            "text/plain": [
              "   Have_IP  Have_At  URL_Length  URL_Depth  Redirection  https_Domain  \\\n",
              "0        0        0           1          3            0             0   \n",
              "1        0        0           0          0            0             0   \n",
              "2        0        0           1          8            0             0   \n",
              "3        0        0           1          3            0             0   \n",
              "4        0        0           1          4            0             0   \n",
              "\n",
              "   TinyURL  Prefix/Suffix  DNS_Record  Web_Traffic  Domain_Age  Domain_End  \\\n",
              "0        0              0           0            1           0           1   \n",
              "1        0              1           0            1           0           1   \n",
              "2        0              0           1            1           1           1   \n",
              "3        0              0           0            1           0           1   \n",
              "4        0              0           0            1           0           1   \n",
              "\n",
              "   iFrame  Mouse_Over  Right_Click  Web_Forwards  Label  \n",
              "0       0           0            1             0      0  \n",
              "1       0           0            1             1      1  \n",
              "2       0           0            1             1      1  \n",
              "3       0           0            1             0      0  \n",
              "4       1           1            1             1      1  "
            ],
            "text/html": [
              "\n",
              "  <div id=\"df-4427ca77-516b-4ce4-b130-ffc533ceb4b9\">\n",
              "    <div class=\"colab-df-container\">\n",
              "      <div>\n",
              "<style scoped>\n",
              "    .dataframe tbody tr th:only-of-type {\n",
              "        vertical-align: middle;\n",
              "    }\n",
              "\n",
              "    .dataframe tbody tr th {\n",
              "        vertical-align: top;\n",
              "    }\n",
              "\n",
              "    .dataframe thead th {\n",
              "        text-align: right;\n",
              "    }\n",
              "</style>\n",
              "<table border=\"1\" class=\"dataframe\">\n",
              "  <thead>\n",
              "    <tr style=\"text-align: right;\">\n",
              "      <th></th>\n",
              "      <th>Have_IP</th>\n",
              "      <th>Have_At</th>\n",
              "      <th>URL_Length</th>\n",
              "      <th>URL_Depth</th>\n",
              "      <th>Redirection</th>\n",
              "      <th>https_Domain</th>\n",
              "      <th>TinyURL</th>\n",
              "      <th>Prefix/Suffix</th>\n",
              "      <th>DNS_Record</th>\n",
              "      <th>Web_Traffic</th>\n",
              "      <th>Domain_Age</th>\n",
              "      <th>Domain_End</th>\n",
              "      <th>iFrame</th>\n",
              "      <th>Mouse_Over</th>\n",
              "      <th>Right_Click</th>\n",
              "      <th>Web_Forwards</th>\n",
              "      <th>Label</th>\n",
              "    </tr>\n",
              "  </thead>\n",
              "  <tbody>\n",
              "    <tr>\n",
              "      <th>0</th>\n",
              "      <td>0</td>\n",
              "      <td>0</td>\n",
              "      <td>1</td>\n",
              "      <td>3</td>\n",
              "      <td>0</td>\n",
              "      <td>0</td>\n",
              "      <td>0</td>\n",
              "      <td>0</td>\n",
              "      <td>0</td>\n",
              "      <td>1</td>\n",
              "      <td>0</td>\n",
              "      <td>1</td>\n",
              "      <td>0</td>\n",
              "      <td>0</td>\n",
              "      <td>1</td>\n",
              "      <td>0</td>\n",
              "      <td>0</td>\n",
              "    </tr>\n",
              "    <tr>\n",
              "      <th>1</th>\n",
              "      <td>0</td>\n",
              "      <td>0</td>\n",
              "      <td>0</td>\n",
              "      <td>0</td>\n",
              "      <td>0</td>\n",
              "      <td>0</td>\n",
              "      <td>0</td>\n",
              "      <td>1</td>\n",
              "      <td>0</td>\n",
              "      <td>1</td>\n",
              "      <td>0</td>\n",
              "      <td>1</td>\n",
              "      <td>0</td>\n",
              "      <td>0</td>\n",
              "      <td>1</td>\n",
              "      <td>1</td>\n",
              "      <td>1</td>\n",
              "    </tr>\n",
              "    <tr>\n",
              "      <th>2</th>\n",
              "      <td>0</td>\n",
              "      <td>0</td>\n",
              "      <td>1</td>\n",
              "      <td>8</td>\n",
              "      <td>0</td>\n",
              "      <td>0</td>\n",
              "      <td>0</td>\n",
              "      <td>0</td>\n",
              "      <td>1</td>\n",
              "      <td>1</td>\n",
              "      <td>1</td>\n",
              "      <td>1</td>\n",
              "      <td>0</td>\n",
              "      <td>0</td>\n",
              "      <td>1</td>\n",
              "      <td>1</td>\n",
              "      <td>1</td>\n",
              "    </tr>\n",
              "    <tr>\n",
              "      <th>3</th>\n",
              "      <td>0</td>\n",
              "      <td>0</td>\n",
              "      <td>1</td>\n",
              "      <td>3</td>\n",
              "      <td>0</td>\n",
              "      <td>0</td>\n",
              "      <td>0</td>\n",
              "      <td>0</td>\n",
              "      <td>0</td>\n",
              "      <td>1</td>\n",
              "      <td>0</td>\n",
              "      <td>1</td>\n",
              "      <td>0</td>\n",
              "      <td>0</td>\n",
              "      <td>1</td>\n",
              "      <td>0</td>\n",
              "      <td>0</td>\n",
              "    </tr>\n",
              "    <tr>\n",
              "      <th>4</th>\n",
              "      <td>0</td>\n",
              "      <td>0</td>\n",
              "      <td>1</td>\n",
              "      <td>4</td>\n",
              "      <td>0</td>\n",
              "      <td>0</td>\n",
              "      <td>0</td>\n",
              "      <td>0</td>\n",
              "      <td>0</td>\n",
              "      <td>1</td>\n",
              "      <td>0</td>\n",
              "      <td>1</td>\n",
              "      <td>1</td>\n",
              "      <td>1</td>\n",
              "      <td>1</td>\n",
              "      <td>1</td>\n",
              "      <td>1</td>\n",
              "    </tr>\n",
              "  </tbody>\n",
              "</table>\n",
              "</div>\n",
              "      <button class=\"colab-df-convert\" onclick=\"convertToInteractive('df-4427ca77-516b-4ce4-b130-ffc533ceb4b9')\"\n",
              "              title=\"Convert this dataframe to an interactive table.\"\n",
              "              style=\"display:none;\">\n",
              "        \n",
              "  <svg xmlns=\"http://www.w3.org/2000/svg\" height=\"24px\"viewBox=\"0 0 24 24\"\n",
              "       width=\"24px\">\n",
              "    <path d=\"M0 0h24v24H0V0z\" fill=\"none\"/>\n",
              "    <path d=\"M18.56 5.44l.94 2.06.94-2.06 2.06-.94-2.06-.94-.94-2.06-.94 2.06-2.06.94zm-11 1L8.5 8.5l.94-2.06 2.06-.94-2.06-.94L8.5 2.5l-.94 2.06-2.06.94zm10 10l.94 2.06.94-2.06 2.06-.94-2.06-.94-.94-2.06-.94 2.06-2.06.94z\"/><path d=\"M17.41 7.96l-1.37-1.37c-.4-.4-.92-.59-1.43-.59-.52 0-1.04.2-1.43.59L10.3 9.45l-7.72 7.72c-.78.78-.78 2.05 0 2.83L4 21.41c.39.39.9.59 1.41.59.51 0 1.02-.2 1.41-.59l7.78-7.78 2.81-2.81c.8-.78.8-2.07 0-2.86zM5.41 20L4 18.59l7.72-7.72 1.47 1.35L5.41 20z\"/>\n",
              "  </svg>\n",
              "      </button>\n",
              "      \n",
              "  <style>\n",
              "    .colab-df-container {\n",
              "      display:flex;\n",
              "      flex-wrap:wrap;\n",
              "      gap: 12px;\n",
              "    }\n",
              "\n",
              "    .colab-df-convert {\n",
              "      background-color: #E8F0FE;\n",
              "      border: none;\n",
              "      border-radius: 50%;\n",
              "      cursor: pointer;\n",
              "      display: none;\n",
              "      fill: #1967D2;\n",
              "      height: 32px;\n",
              "      padding: 0 0 0 0;\n",
              "      width: 32px;\n",
              "    }\n",
              "\n",
              "    .colab-df-convert:hover {\n",
              "      background-color: #E2EBFA;\n",
              "      box-shadow: 0px 1px 2px rgba(60, 64, 67, 0.3), 0px 1px 3px 1px rgba(60, 64, 67, 0.15);\n",
              "      fill: #174EA6;\n",
              "    }\n",
              "\n",
              "    [theme=dark] .colab-df-convert {\n",
              "      background-color: #3B4455;\n",
              "      fill: #D2E3FC;\n",
              "    }\n",
              "\n",
              "    [theme=dark] .colab-df-convert:hover {\n",
              "      background-color: #434B5C;\n",
              "      box-shadow: 0px 1px 3px 1px rgba(0, 0, 0, 0.15);\n",
              "      filter: drop-shadow(0px 1px 2px rgba(0, 0, 0, 0.3));\n",
              "      fill: #FFFFFF;\n",
              "    }\n",
              "  </style>\n",
              "\n",
              "      <script>\n",
              "        const buttonEl =\n",
              "          document.querySelector('#df-4427ca77-516b-4ce4-b130-ffc533ceb4b9 button.colab-df-convert');\n",
              "        buttonEl.style.display =\n",
              "          google.colab.kernel.accessAllowed ? 'block' : 'none';\n",
              "\n",
              "        async function convertToInteractive(key) {\n",
              "          const element = document.querySelector('#df-4427ca77-516b-4ce4-b130-ffc533ceb4b9');\n",
              "          const dataTable =\n",
              "            await google.colab.kernel.invokeFunction('convertToInteractive',\n",
              "                                                     [key], {});\n",
              "          if (!dataTable) return;\n",
              "\n",
              "          const docLinkHtml = 'Like what you see? Visit the ' +\n",
              "            '<a target=\"_blank\" href=https://colab.research.google.com/notebooks/data_table.ipynb>data table notebook</a>'\n",
              "            + ' to learn more about interactive tables.';\n",
              "          element.innerHTML = '';\n",
              "          dataTable['output_type'] = 'display_data';\n",
              "          await google.colab.output.renderOutput(dataTable, element);\n",
              "          const docLink = document.createElement('div');\n",
              "          docLink.innerHTML = docLinkHtml;\n",
              "          element.appendChild(docLink);\n",
              "        }\n",
              "      </script>\n",
              "    </div>\n",
              "  </div>\n",
              "  "
            ]
          },
          "metadata": {},
          "execution_count": 11
        }
      ]
    },
    {
      "cell_type": "markdown",
      "source": [
        "**Data Split**"
      ],
      "metadata": {
        "id": "FKvwMaF4Whm3"
      }
    },
    {
      "cell_type": "code",
      "source": [
        "# Sepratating & assigning features and target columns to X & y\n",
        "y = data['Label']\n",
        "X = data.drop('Label',axis=1)\n",
        "X.shape, y.shape"
      ],
      "metadata": {
        "id": "qx4GPkQJWltO",
        "outputId": "cf0e28b0-4199-4b39-eb35-160abc1dee94",
        "colab": {
          "base_uri": "https://localhost:8080/"
        }
      },
      "execution_count": 12,
      "outputs": [
        {
          "output_type": "execute_result",
          "data": {
            "text/plain": [
              "((10000, 16), (10000,))"
            ]
          },
          "metadata": {},
          "execution_count": 12
        }
      ]
    },
    {
      "cell_type": "code",
      "source": [
        "# Splitting the dataset into train and test sets: 80-20 split\n",
        "from sklearn.model_selection import train_test_split\n",
        "\n",
        "X_train, X_test, y_train, y_test = train_test_split(X, y, \n",
        "                                                    test_size = 0.2, random_state = 12)\n",
        "X_train.shape, X_test.shape"
      ],
      "metadata": {
        "id": "agXsYeEaWowS",
        "outputId": "6235b979-f84a-49b4-9a8c-8ca584eb70a4",
        "colab": {
          "base_uri": "https://localhost:8080/"
        }
      },
      "execution_count": 13,
      "outputs": [
        {
          "output_type": "execute_result",
          "data": {
            "text/plain": [
              "((8000, 16), (2000, 16))"
            ]
          },
          "metadata": {},
          "execution_count": 13
        }
      ]
    },
    {
      "cell_type": "markdown",
      "source": [
        "**Machine Learning Models & Training**"
      ],
      "metadata": {
        "id": "v3cl2buTW0pX"
      }
    },
    {
      "cell_type": "code",
      "source": [
        "#importing packages\n",
        "from sklearn.metrics import accuracy_score"
      ],
      "metadata": {
        "id": "owxn3XkWW3Gj"
      },
      "execution_count": 14,
      "outputs": []
    },
    {
      "cell_type": "code",
      "source": [
        "# Creating holders to store the model performance results\n",
        "ML_Model = []\n",
        "acc_train = []\n",
        "acc_test = []\n",
        "\n",
        "#function to call for storing the results\n",
        "def storeResults(model, a,b):\n",
        "  ML_Model.append(model)\n",
        "  acc_train.append(round(a, 3))\n",
        "  acc_test.append(round(b, 3))"
      ],
      "metadata": {
        "id": "tENmWWL9W5PR"
      },
      "execution_count": 15,
      "outputs": []
    },
    {
      "cell_type": "markdown",
      "source": [
        "**Decision Tree Classifie**r"
      ],
      "metadata": {
        "id": "hlX2PBgqW-dg"
      }
    },
    {
      "cell_type": "code",
      "source": [
        "# Decision Tree model \n",
        "from sklearn.tree import DecisionTreeClassifier\n",
        "\n",
        "# instantiate the model \n",
        "tree = DecisionTreeClassifier(max_depth = 5)\n",
        "# fit the model \n",
        "tree.fit(X_train, y_train)"
      ],
      "metadata": {
        "id": "vin4qYXWW7v5",
        "outputId": "d603d6a0-6e8e-4329-f3b2-8dfb4a9237c2",
        "colab": {
          "base_uri": "https://localhost:8080/"
        }
      },
      "execution_count": 16,
      "outputs": [
        {
          "output_type": "execute_result",
          "data": {
            "text/plain": [
              "DecisionTreeClassifier(max_depth=5)"
            ]
          },
          "metadata": {},
          "execution_count": 16
        }
      ]
    },
    {
      "cell_type": "code",
      "source": [
        "#predicting the target value from the model for the samples\n",
        "y_test_tree = tree.predict(X_test)\n",
        "y_train_tree = tree.predict(X_train)"
      ],
      "metadata": {
        "id": "xwC5tVUiXCOY"
      },
      "execution_count": 17,
      "outputs": []
    },
    {
      "cell_type": "markdown",
      "source": [
        "**Performance Evaluation:**"
      ],
      "metadata": {
        "id": "EtGMZy2_XHPv"
      }
    },
    {
      "cell_type": "code",
      "source": [
        "#computing the accuracy of the model performance\n",
        "acc_train_tree = accuracy_score(y_train,y_train_tree)\n",
        "acc_test_tree = accuracy_score(y_test,y_test_tree)\n",
        "\n",
        "print(\"Decision Tree: Accuracy on training Data: {:.3f}\".format(acc_train_tree))\n",
        "print(\"Decision Tree: Accuracy on test Data: {:.3f}\".format(acc_test_tree))"
      ],
      "metadata": {
        "id": "NthcaXXZXEk_",
        "outputId": "8964423e-1f9a-4642-d557-64f6deab46d2",
        "colab": {
          "base_uri": "https://localhost:8080/"
        }
      },
      "execution_count": 18,
      "outputs": [
        {
          "output_type": "stream",
          "name": "stdout",
          "text": [
            "Decision Tree: Accuracy on training Data: 0.815\n",
            "Decision Tree: Accuracy on test Data: 0.806\n"
          ]
        }
      ]
    },
    {
      "cell_type": "code",
      "source": [
        "#checking the feature improtance in the model\n",
        "plt.figure(figsize=(9,7))\n",
        "n_features = X_train.shape[1]\n",
        "plt.barh(range(n_features), tree.feature_importances_, align='center')\n",
        "plt.yticks(np.arange(n_features), X_train.columns)\n",
        "plt.xlabel(\"Feature importance\")\n",
        "plt.ylabel(\"Feature\")\n",
        "plt.show()"
      ],
      "metadata": {
        "id": "fsZNYH24XLe4",
        "outputId": "01cc9836-97c5-4dc8-8ddf-bc1990d3ef86",
        "colab": {
          "base_uri": "https://localhost:8080/",
          "height": 442
        }
      },
      "execution_count": 19,
      "outputs": [
        {
          "output_type": "display_data",
          "data": {
            "text/plain": [
              "<Figure size 648x504 with 1 Axes>"
            ],
            "image/png": "[encoded data removed]"
          },
          "metadata": {
            "needs_background": "light"
          }
        }
      ]
    },
    {
      "cell_type": "markdown",
      "source": [
        "**Store Results**"
      ],
      "metadata": {
        "id": "A2RRWkF_XSC8"
      }
    },
    {
      "cell_type": "code",
      "source": [
        "#storing the results. The below mentioned order of parameter passing is important.\n",
        "#Caution: Execute only once to avoid duplications.\n",
        "storeResults('Decision Tree', acc_train_tree, acc_test_tree)"
      ],
      "metadata": {
        "id": "oPgHz2-fXOTo"
      },
      "execution_count": 20,
      "outputs": []
    },
    {
      "cell_type": "markdown",
      "source": [
        "**Random Forest**"
      ],
      "metadata": {
        "id": "PrU-uYu2XaAI"
      }
    },
    {
      "cell_type": "code",
      "source": [
        "# Random Forest model\n",
        "from sklearn.ensemble import RandomForestClassifier\n",
        "\n",
        "# instantiate the model\n",
        "forest = RandomForestClassifier(max_depth=5)\n",
        "\n",
        "# fit the model \n",
        "forest.fit(X_train, y_train)"
      ],
      "metadata": {
        "id": "ASCFZ_dDXVZV",
        "outputId": "4bfdfbde-a477-46d9-b101-f49ce5c481c5",
        "colab": {
          "base_uri": "https://localhost:8080/"
        }
      },
      "execution_count": 21,
      "outputs": [
        {
          "output_type": "execute_result",
          "data": {
            "text/plain": [
              "RandomForestClassifier(max_depth=5)"
            ]
          },
          "metadata": {},
          "execution_count": 21
        }
      ]
    },
    {
      "cell_type": "code",
      "source": [
        "#predicting the target value from the model for the samples\n",
        "y_test_forest = forest.predict(X_test)\n",
        "y_train_forest = forest.predict(X_train)"
      ],
      "metadata": {
        "id": "TmQbNq-jXelf"
      },
      "execution_count": 22,
      "outputs": []
    },
    {
      "cell_type": "markdown",
      "source": [
        "**Performance Evaluation**"
      ],
      "metadata": {
        "id": "D6duXViBXlrV"
      }
    },
    {
      "cell_type": "code",
      "source": [
        "#computing the accuracy of the model performance\n",
        "acc_train_forest = accuracy_score(y_train,y_train_forest)\n",
        "acc_test_forest = accuracy_score(y_test,y_test_forest)\n",
        "\n",
        "print(\"Random forest: Accuracy on training Data: {:.3f}\".format(acc_train_forest))\n",
        "print(\"Random forest: Accuracy on test Data: {:.3f}\".format(acc_test_forest))"
      ],
      "metadata": {
        "id": "nF7ZAMALXin2",
        "outputId": "e77de5df-121d-40eb-f598-4614efb18c1b",
        "colab": {
          "base_uri": "https://localhost:8080/"
        }
      },
      "execution_count": 23,
      "outputs": [
        {
          "output_type": "stream",
          "name": "stdout",
          "text": [
            "Random forest: Accuracy on training Data: 0.815\n",
            "Random forest: Accuracy on test Data: 0.800\n"
          ]
        }
      ]
    },
    {
      "cell_type": "code",
      "source": [
        "#checking the feature improtance in the model\n",
        "plt.figure(figsize=(9,7))\n",
        "n_features = X_train.shape[1]\n",
        "plt.barh(range(n_features), forest.feature_importances_, align='center')\n",
        "plt.yticks(np.arange(n_features), X_train.columns)\n",
        "plt.xlabel(\"Feature importance\")\n",
        "plt.ylabel(\"Feature\")\n",
        "plt.show()"
      ],
      "metadata": {
        "id": "R-R78cX4XpBp",
        "outputId": "aa47d908-3792-4308-b3d7-e74e9263529d",
        "colab": {
          "base_uri": "https://localhost:8080/",
          "height": 442
        }
      },
      "execution_count": 24,
      "outputs": [
        {
          "output_type": "display_data",
          "data": {
            "text/plain": [
              "<Figure size 648x504 with 1 Axes>"
            ],
            "image/png": "[encoded data removed]"
          },
          "metadata": {
            "needs_background": "light"
          }
        }
      ]
    },
    {
      "cell_type": "markdown",
      "source": [
        "**Store Results**"
      ],
      "metadata": {
        "id": "tcxbw_BYXxsO"
      }
    },
    {
      "cell_type": "code",
      "source": [
        "#storing the results. The below mentioned order of parameter passing is important.\n",
        "#Caution: Execute only once to avoid duplications.\n",
        "storeResults('Random Forest', acc_train_forest, acc_test_forest)"
      ],
      "metadata": {
        "id": "Om8-6QZ0Xsi_"
      },
      "execution_count": 25,
      "outputs": []
    },
    {
      "cell_type": "markdown",
      "source": [
        "# **Try more classifiers later**"
      ],
      "metadata": {
        "id": "w-8FxsIZX55P"
      }
    },
    {
      "cell_type": "markdown",
      "source": [
        "**Classifier Comparison**"
      ],
      "metadata": {
        "id": "nHE5FxrLYAqc"
      }
    },
    {
      "cell_type": "code",
      "source": [
        "#creating dataframe to compare models with columns created showing their performance\n",
        "results = pd.DataFrame({ 'ML Model': ML_Model,    \n",
        "    'Train Accuracy': acc_train,\n",
        "    'Test Accuracy': acc_test})\n",
        "results"
      ],
      "metadata": {
        "id": "CIMybNCAX2yH",
        "outputId": "2023e7c5-45be-4496-c554-3eedccbc972b",
        "colab": {
          "base_uri": "https://localhost:8080/",
          "height": 112
        }
      },
      "execution_count": 26,
      "outputs": [
        {
          "output_type": "execute_result",
          "data": {
            "text/plain": [
              "        ML Model  Train Accuracy  Test Accuracy\n",
              "0  Decision Tree           0.815          0.806\n",
              "1  Random Forest           0.815          0.800"
            ],
            "text/html": [
              "\n",
              "  <div id=\"df-d22eb9ab-a3e7-4eda-9465-24c79a004cfa\">\n",
              "    <div class=\"colab-df-container\">\n",
              "      <div>\n",
              "<style scoped>\n",
              "    .dataframe tbody tr th:only-of-type {\n",
              "        vertical-align: middle;\n",
              "    }\n",
              "\n",
              "    .dataframe tbody tr th {\n",
              "        vertical-align: top;\n",
              "    }\n",
              "\n",
              "    .dataframe thead th {\n",
              "        text-align: right;\n",
              "    }\n",
              "</style>\n",
              "<table border=\"1\" class=\"dataframe\">\n",
              "  <thead>\n",
              "    <tr style=\"text-align: right;\">\n",
              "      <th></th>\n",
              "      <th>ML Model</th>\n",
              "      <th>Train Accuracy</th>\n",
              "      <th>Test Accuracy</th>\n",
              "    </tr>\n",
              "  </thead>\n",
              "  <tbody>\n",
              "    <tr>\n",
              "      <th>0</th>\n",
              "      <td>Decision Tree</td>\n",
              "      <td>0.815</td>\n",
              "      <td>0.806</td>\n",
              "    </tr>\n",
              "    <tr>\n",
              "      <th>1</th>\n",
              "      <td>Random Forest</td>\n",
              "      <td>0.815</td>\n",
              "      <td>0.800</td>\n",
              "    </tr>\n",
              "  </tbody>\n",
              "</table>\n",
              "</div>\n",
              "      <button class=\"colab-df-convert\" onclick=\"convertToInteractive('df-d22eb9ab-a3e7-4eda-9465-24c79a004cfa')\"\n",
              "              title=\"Convert this dataframe to an interactive table.\"\n",
              "              style=\"display:none;\">\n",
              "        \n",
              "  <svg xmlns=\"http://www.w3.org/2000/svg\" height=\"24px\"viewBox=\"0 0 24 24\"\n",
              "       width=\"24px\">\n",
              "    <path d=\"M0 0h24v24H0V0z\" fill=\"none\"/>\n",
              "    <path d=\"M18.56 5.44l.94 2.06.94-2.06 2.06-.94-2.06-.94-.94-2.06-.94 2.06-2.06.94zm-11 1L8.5 8.5l.94-2.06 2.06-.94-2.06-.94L8.5 2.5l-.94 2.06-2.06.94zm10 10l.94 2.06.94-2.06 2.06-.94-2.06-.94-.94-2.06-.94 2.06-2.06.94z\"/><path d=\"M17.41 7.96l-1.37-1.37c-.4-.4-.92-.59-1.43-.59-.52 0-1.04.2-1.43.59L10.3 9.45l-7.72 7.72c-.78.78-.78 2.05 0 2.83L4 21.41c.39.39.9.59 1.41.59.51 0 1.02-.2 1.41-.59l7.78-7.78 2.81-2.81c.8-.78.8-2.07 0-2.86zM5.41 20L4 18.59l7.72-7.72 1.47 1.35L5.41 20z\"/>\n",
              "  </svg>\n",
              "      </button>\n",
              "      \n",
              "  <style>\n",
              "    .colab-df-container {\n",
              "      display:flex;\n",
              "      flex-wrap:wrap;\n",
              "      gap: 12px;\n",
              "    }\n",
              "\n",
              "    .colab-df-convert {\n",
              "      background-color: #E8F0FE;\n",
              "      border: none;\n",
              "      border-radius: 50%;\n",
              "      cursor: pointer;\n",
              "      display: none;\n",
              "      fill: #1967D2;\n",
              "      height: 32px;\n",
              "      padding: 0 0 0 0;\n",
              "      width: 32px;\n",
              "    }\n",
              "\n",
              "    .colab-df-convert:hover {\n",
              "      background-color: #E2EBFA;\n",
              "      box-shadow: 0px 1px 2px rgba(60, 64, 67, 0.3), 0px 1px 3px 1px rgba(60, 64, 67, 0.15);\n",
              "      fill: #174EA6;\n",
              "    }\n",
              "\n",
              "    [theme=dark] .colab-df-convert {\n",
              "      background-color: #3B4455;\n",
              "      fill: #D2E3FC;\n",
              "    }\n",
              "\n",
              "    [theme=dark] .colab-df-convert:hover {\n",
              "      background-color: #434B5C;\n",
              "      box-shadow: 0px 1px 3px 1px rgba(0, 0, 0, 0.15);\n",
              "      filter: drop-shadow(0px 1px 2px rgba(0, 0, 0, 0.3));\n",
              "      fill: #FFFFFF;\n",
              "    }\n",
              "  </style>\n",
              "\n",
              "      <script>\n",
              "        const buttonEl =\n",
              "          document.querySelector('#df-d22eb9ab-a3e7-4eda-9465-24c79a004cfa button.colab-df-convert');\n",
              "        buttonEl.style.display =\n",
              "          google.colab.kernel.accessAllowed ? 'block' : 'none';\n",
              "\n",
              "        async function convertToInteractive(key) {\n",
              "          const element = document.querySelector('#df-d22eb9ab-a3e7-4eda-9465-24c79a004cfa');\n",
              "          const dataTable =\n",
              "            await google.colab.kernel.invokeFunction('convertToInteractive',\n",
              "                                                     [key], {});\n",
              "          if (!dataTable) return;\n",
              "\n",
              "          const docLinkHtml = 'Like what you see? Visit the ' +\n",
              "            '<a target=\"_blank\" href=https://colab.research.google.com/notebooks/data_table.ipynb>data table notebook</a>'\n",
              "            + ' to learn more about interactive tables.';\n",
              "          element.innerHTML = '';\n",
              "          dataTable['output_type'] = 'display_data';\n",
              "          await google.colab.output.renderOutput(dataTable, element);\n",
              "          const docLink = document.createElement('div');\n",
              "          docLink.innerHTML = docLinkHtml;\n",
              "          element.appendChild(docLink);\n",
              "        }\n",
              "      </script>\n",
              "    </div>\n",
              "  </div>\n",
              "  "
            ]
          },
          "metadata": {},
          "execution_count": 26
        }
      ]
    },
    {
      "cell_type": "code",
      "source": [
        "#Sorting the datafram on accuracy\n",
        "results.sort_values(by=['Test Accuracy', 'Train Accuracy'], ascending=False)"
      ],
      "metadata": {
        "id": "YSQ4BwZKYTcd",
        "outputId": "066e9a47-9598-4480-be59-bc79feebdd17",
        "colab": {
          "base_uri": "https://localhost:8080/",
          "height": 112
        }
      },
      "execution_count": 27,
      "outputs": [
        {
          "output_type": "execute_result",
          "data": {
            "text/plain": [
              "        ML Model  Train Accuracy  Test Accuracy\n",
              "0  Decision Tree           0.815          0.806\n",
              "1  Random Forest           0.815          0.800"
            ],
            "text/html": [
              "\n",
              "  <div id=\"df-9f866bb3-b113-42be-b5a6-3cb1889beeda\">\n",
              "    <div class=\"colab-df-container\">\n",
              "      <div>\n",
              "<style scoped>\n",
              "    .dataframe tbody tr th:only-of-type {\n",
              "        vertical-align: middle;\n",
              "    }\n",
              "\n",
              "    .dataframe tbody tr th {\n",
              "        vertical-align: top;\n",
              "    }\n",
              "\n",
              "    .dataframe thead th {\n",
              "        text-align: right;\n",
              "    }\n",
              "</style>\n",
              "<table border=\"1\" class=\"dataframe\">\n",
              "  <thead>\n",
              "    <tr style=\"text-align: right;\">\n",
              "      <th></th>\n",
              "      <th>ML Model</th>\n",
              "      <th>Train Accuracy</th>\n",
              "      <th>Test Accuracy</th>\n",
              "    </tr>\n",
              "  </thead>\n",
              "  <tbody>\n",
              "    <tr>\n",
              "      <th>0</th>\n",
              "      <td>Decision Tree</td>\n",
              "      <td>0.815</td>\n",
              "      <td>0.806</td>\n",
              "    </tr>\n",
              "    <tr>\n",
              "      <th>1</th>\n",
              "      <td>Random Forest</td>\n",
              "      <td>0.815</td>\n",
              "      <td>0.800</td>\n",
              "    </tr>\n",
              "  </tbody>\n",
              "</table>\n",
              "</div>\n",
              "      <button class=\"colab-df-convert\" onclick=\"convertToInteractive('df-9f866bb3-b113-42be-b5a6-3cb1889beeda')\"\n",
              "              title=\"Convert this dataframe to an interactive table.\"\n",
              "              style=\"display:none;\">\n",
              "        \n",
              "  <svg xmlns=\"http://www.w3.org/2000/svg\" height=\"24px\"viewBox=\"0 0 24 24\"\n",
              "       width=\"24px\">\n",
              "    <path d=\"M0 0h24v24H0V0z\" fill=\"none\"/>\n",
              "    <path d=\"M18.56 5.44l.94 2.06.94-2.06 2.06-.94-2.06-.94-.94-2.06-.94 2.06-2.06.94zm-11 1L8.5 8.5l.94-2.06 2.06-.94-2.06-.94L8.5 2.5l-.94 2.06-2.06.94zm10 10l.94 2.06.94-2.06 2.06-.94-2.06-.94-.94-2.06-.94 2.06-2.06.94z\"/><path d=\"M17.41 7.96l-1.37-1.37c-.4-.4-.92-.59-1.43-.59-.52 0-1.04.2-1.43.59L10.3 9.45l-7.72 7.72c-.78.78-.78 2.05 0 2.83L4 21.41c.39.39.9.59 1.41.59.51 0 1.02-.2 1.41-.59l7.78-7.78 2.81-2.81c.8-.78.8-2.07 0-2.86zM5.41 20L4 18.59l7.72-7.72 1.47 1.35L5.41 20z\"/>\n",
              "  </svg>\n",
              "      </button>\n",
              "      \n",
              "  <style>\n",
              "    .colab-df-container {\n",
              "      display:flex;\n",
              "      flex-wrap:wrap;\n",
              "      gap: 12px;\n",
              "    }\n",
              "\n",
              "    .colab-df-convert {\n",
              "      background-color: #E8F0FE;\n",
              "      border: none;\n",
              "      border-radius: 50%;\n",
              "      cursor: pointer;\n",
              "      display: none;\n",
              "      fill: #1967D2;\n",
              "      height: 32px;\n",
              "      padding: 0 0 0 0;\n",
              "      width: 32px;\n",
              "    }\n",
              "\n",
              "    .colab-df-convert:hover {\n",
              "      background-color: #E2EBFA;\n",
              "      box-shadow: 0px 1px 2px rgba(60, 64, 67, 0.3), 0px 1px 3px 1px rgba(60, 64, 67, 0.15);\n",
              "      fill: #174EA6;\n",
              "    }\n",
              "\n",
              "    [theme=dark] .colab-df-convert {\n",
              "      background-color: #3B4455;\n",
              "      fill: #D2E3FC;\n",
              "    }\n",
              "\n",
              "    [theme=dark] .colab-df-convert:hover {\n",
              "      background-color: #434B5C;\n",
              "      box-shadow: 0px 1px 3px 1px rgba(0, 0, 0, 0.15);\n",
              "      filter: drop-shadow(0px 1px 2px rgba(0, 0, 0, 0.3));\n",
              "      fill: #FFFFFF;\n",
              "    }\n",
              "  </style>\n",
              "\n",
              "      <script>\n",
              "        const buttonEl =\n",
              "          document.querySelector('#df-9f866bb3-b113-42be-b5a6-3cb1889beeda button.colab-df-convert');\n",
              "        buttonEl.style.display =\n",
              "          google.colab.kernel.accessAllowed ? 'block' : 'none';\n",
              "\n",
              "        async function convertToInteractive(key) {\n",
              "          const element = document.querySelector('#df-9f866bb3-b113-42be-b5a6-3cb1889beeda');\n",
              "          const dataTable =\n",
              "            await google.colab.kernel.invokeFunction('convertToInteractive',\n",
              "                                                     [key], {});\n",
              "          if (!dataTable) return;\n",
              "\n",
              "          const docLinkHtml = 'Like what you see? Visit the ' +\n",
              "            '<a target=\"_blank\" href=https://colab.research.google.com/notebooks/data_table.ipynb>data table notebook</a>'\n",
              "            + ' to learn more about interactive tables.';\n",
              "          element.innerHTML = '';\n",
              "          dataTable['output_type'] = 'display_data';\n",
              "          await google.colab.output.renderOutput(dataTable, element);\n",
              "          const docLink = document.createElement('div');\n",
              "          docLink.innerHTML = docLinkHtml;\n",
              "          element.appendChild(docLink);\n",
              "        }\n",
              "      </script>\n",
              "    </div>\n",
              "  </div>\n",
              "  "
            ]
          },
          "metadata": {},
          "execution_count": 27
        }
      ]
    },
    {
      "cell_type": "code",
      "source": [
        "#Save best model and load it later"
      ],
      "metadata": {
        "id": "de_GHitKYmLG"
      },
      "execution_count": 29,
      "outputs": []
    },
    {
      "cell_type": "code",
      "source": [
        ""
      ],
      "metadata": {
        "id": "Z0O7MdyFY8DY"
      },
      "execution_count": null,
      "outputs": []
    }
  ]
}